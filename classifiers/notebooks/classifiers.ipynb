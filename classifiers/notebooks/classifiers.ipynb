{
 "cells": [
  {
   "cell_type": "code",
   "execution_count": 1,
   "metadata": {},
   "outputs": [
    {
     "name": "stdout",
     "output_type": "stream",
     "text": [
      "/Users/hao/workspace/hpi_de/4th_Semester/Applied Machine Learning/sensor-data-gans\n"
     ]
    }
   ],
   "source": [
    "cd ../.."
   ]
  },
  {
   "cell_type": "code",
   "execution_count": 2,
   "metadata": {},
   "outputs": [],
   "source": [
    "import numpy as np\n",
    "import pandas as pd\n",
    "import tensorflow\n",
    "from sklearn.utils import shuffle\n",
    "from utils.windowing import windowing_dataframe, transform_windows_df"
   ]
  },
  {
   "cell_type": "markdown",
   "metadata": {},
   "source": [
    "## Read Data"
   ]
  },
  {
   "cell_type": "code",
   "execution_count": 3,
   "metadata": {},
   "outputs": [],
   "source": [
    "train_df = pd.read_hdf('./datasets/mydata/train_df.h5')\n",
    "val_df = pd.read_hdf('./datasets/mydata/val_df.h5')\n",
    "test_df = pd.read_hdf('./datasets/mydata/test_df.h5')"
   ]
  },
  {
   "cell_type": "markdown",
   "metadata": {},
   "source": [
    "## Windowing Timeseries Data"
   ]
  },
  {
   "cell_type": "code",
   "execution_count": 4,
   "metadata": {},
   "outputs": [],
   "source": [
    "window_size = 5*50\n",
    "step_size = int(window_size/2)\n",
    "col_names = ['userAcceleration.x', 'userAcceleration.y', 'userAcceleration.z', 'userAcceleration.c']\n",
    "method ='sliding'"
   ]
  },
  {
   "cell_type": "code",
   "execution_count": 5,
   "metadata": {},
   "outputs": [],
   "source": [
    "train_windowed_df = windowing_dataframe(train_df, window_size=window_size, step_or_sample_size=step_size, col_names=col_names, method=method)\n",
    "val_windowed_df = windowing_dataframe(val_df, window_size=window_size, step_or_sample_size=step_size, col_names=col_names, method=method)\n",
    "test_windowed_df = windowing_dataframe(test_df, window_size=window_size, step_or_sample_size=step_size, col_names=col_names, method=method)"
   ]
  },
  {
   "cell_type": "markdown",
   "metadata": {},
   "source": [
    "## Classifiers"
   ]
  },
  {
   "cell_type": "markdown",
   "metadata": {},
   "source": [
    "### SVM"
   ]
  },
  {
   "cell_type": "code",
   "execution_count": 6,
   "metadata": {},
   "outputs": [],
   "source": [
    "from sklearn.svm import SVC\n",
    "from sklearn.metrics import classification_report"
   ]
  },
  {
   "cell_type": "code",
   "execution_count": 7,
   "metadata": {},
   "outputs": [],
   "source": [
    "input_cols = ['userAcceleration.c']\n",
    "x_train, y_train = transform_windows_df(train_windowed_df, input_cols=input_cols, one_hot_encode=False, as_channel=False)\n",
    "x_val, y_val = transform_windows_df(val_windowed_df, input_cols=input_cols, one_hot_encode=False, as_channel=False)\n",
    "x_test, y_test = transform_windows_df(test_windowed_df, input_cols=input_cols, one_hot_encode=False, as_channel=False)"
   ]
  },
  {
   "cell_type": "code",
   "execution_count": 8,
   "metadata": {},
   "outputs": [],
   "source": [
    "x_train = np.concatenate([x_train, x_val])\n",
    "y_train = np.concatenate([y_train, y_val])"
   ]
  },
  {
   "cell_type": "code",
   "execution_count": 9,
   "metadata": {},
   "outputs": [],
   "source": [
    "x_train = x_train.reshape((len(x_train), window_size))\n",
    "x_test = x_test.reshape((len(x_test), window_size))"
   ]
  },
  {
   "cell_type": "code",
   "execution_count": 10,
   "metadata": {},
   "outputs": [
    {
     "data": {
      "text/plain": [
       "SVC()"
      ]
     },
     "execution_count": 10,
     "metadata": {},
     "output_type": "execute_result"
    }
   ],
   "source": [
    "svm_clf = SVC()\n",
    "svm_clf.fit(x_train, y_train)"
   ]
  },
  {
   "cell_type": "markdown",
   "metadata": {},
   "source": [
    "#### train performance"
   ]
  },
  {
   "cell_type": "code",
   "execution_count": 11,
   "metadata": {},
   "outputs": [],
   "source": [
    "y_train_head = svm_clf.predict(x_train)"
   ]
  },
  {
   "cell_type": "code",
   "execution_count": 12,
   "metadata": {},
   "outputs": [
    {
     "name": "stdout",
     "output_type": "stream",
     "text": [
      "              precision    recall  f1-score   support\n",
      "\n",
      "         0.0       0.62      1.00      0.77      1977\n",
      "         1.0       0.87      0.46      0.61      2256\n",
      "         2.0       1.00      0.82      0.90       829\n",
      "\n",
      "    accuracy                           0.73      5062\n",
      "   macro avg       0.83      0.76      0.76      5062\n",
      "weighted avg       0.80      0.73      0.72      5062\n",
      "\n"
     ]
    }
   ],
   "source": [
    "print(classification_report(y_train, y_train_head))"
   ]
  },
  {
   "cell_type": "markdown",
   "metadata": {},
   "source": [
    "#### test performance"
   ]
  },
  {
   "cell_type": "code",
   "execution_count": 13,
   "metadata": {},
   "outputs": [],
   "source": [
    "y_test_head = svm_clf.predict(x_test)"
   ]
  },
  {
   "cell_type": "code",
   "execution_count": 14,
   "metadata": {},
   "outputs": [
    {
     "name": "stdout",
     "output_type": "stream",
     "text": [
      "              precision    recall  f1-score   support\n",
      "\n",
      "         0.0       0.69      1.00      0.82       403\n",
      "         1.0       0.78      0.35      0.49       387\n",
      "         2.0       0.67      0.78      0.72       173\n",
      "\n",
      "    accuracy                           0.70       963\n",
      "   macro avg       0.71      0.71      0.67       963\n",
      "weighted avg       0.72      0.70      0.67       963\n",
      "\n"
     ]
    }
   ],
   "source": [
    "print(classification_report(y_test, y_test_head))"
   ]
  },
  {
   "cell_type": "markdown",
   "metadata": {},
   "source": [
    "### CNN"
   ]
  },
  {
   "cell_type": "code",
   "execution_count": 31,
   "metadata": {},
   "outputs": [],
   "source": [
    "from tensorflow.keras.models import Sequential\n",
    "from tensorflow.keras.layers import Conv1D, Dense, MaxPool1D, GlobalMaxPool1D, Dropout"
   ]
  },
  {
   "cell_type": "code",
   "execution_count": 16,
   "metadata": {},
   "outputs": [],
   "source": [
    "input_cols = ['userAcceleration.x', 'userAcceleration.y', 'userAcceleration.z']\n",
    "x_train, y_train = transform_windows_df(train_windowed_df, input_cols=input_cols, one_hot_encode=True, as_channel=False)\n",
    "x_val, y_val = transform_windows_df(val_windowed_df, input_cols=input_cols, one_hot_encode=True, as_channel=False)\n",
    "x_test, y_test = transform_windows_df(test_windowed_df, input_cols=input_cols, one_hot_encode=True, as_channel=False)"
   ]
  },
  {
   "cell_type": "code",
   "execution_count": 20,
   "metadata": {},
   "outputs": [],
   "source": [
    "input_shape = x_train[0].shape"
   ]
  },
  {
   "cell_type": "markdown",
   "metadata": {},
   "source": [
    "### build neural net"
   ]
  },
  {
   "cell_type": "code",
   "execution_count": 45,
   "metadata": {},
   "outputs": [
    {
     "name": "stdout",
     "output_type": "stream",
     "text": [
      "Model: \"sequential_11\"\n",
      "_________________________________________________________________\n",
      "Layer (type)                 Output Shape              Param #   \n",
      "=================================================================\n",
      "conv1d_16 (Conv1D)           (None, 246, 32)           512       \n",
      "_________________________________________________________________\n",
      "max_pooling1d_11 (MaxPooling (None, 123, 32)           0         \n",
      "_________________________________________________________________\n",
      "conv1d_17 (Conv1D)           (None, 119, 16)           2576      \n",
      "_________________________________________________________________\n",
      "max_pooling1d_12 (MaxPooling (None, 59, 16)            0         \n",
      "_________________________________________________________________\n",
      "global_max_pooling1d_3 (Glob (None, 16)                0         \n",
      "_________________________________________________________________\n",
      "dense_10 (Dense)             (None, 8)                 136       \n",
      "_________________________________________________________________\n",
      "dense_11 (Dense)             (None, 3)                 27        \n",
      "=================================================================\n",
      "Total params: 3,251\n",
      "Trainable params: 3,251\n",
      "Non-trainable params: 0\n",
      "_________________________________________________________________\n"
     ]
    }
   ],
   "source": [
    "model = Sequential()\n",
    "model.add(Conv1D(32, kernel_size=5, activation='relu', input_shape=input_shape))\n",
    "model.add(MaxPool1D(pool_size=2))\n",
    "model.add(Conv1D(16, kernel_size=5, activation='relu'))\n",
    "model.add(MaxPool1D(pool_size=2))\n",
    "model.add(GlobalMaxPool1D())\n",
    "model.add(Dense(8, activation='relu'))\n",
    "model.add(Dense(3, activation='softmax'))\n",
    "\n",
    "model.summary()"
   ]
  },
  {
   "cell_type": "code",
   "execution_count": 46,
   "metadata": {},
   "outputs": [],
   "source": [
    "model.compile(loss='categorical_crossentropy', optimizer='adam', metrics=['accuracy'])"
   ]
  },
  {
   "cell_type": "code",
   "execution_count": 47,
   "metadata": {},
   "outputs": [
    {
     "name": "stdout",
     "output_type": "stream",
     "text": [
      "Epoch 1/10\n",
      "126/126 [==============================] - 1s 8ms/step - loss: 0.8219 - accuracy: 0.7417 - val_loss: 0.5683 - val_accuracy: 0.9556\n",
      "Epoch 2/10\n",
      "126/126 [==============================] - 1s 7ms/step - loss: 0.4195 - accuracy: 0.9771 - val_loss: 0.3364 - val_accuracy: 0.9903\n",
      "Epoch 3/10\n",
      "126/126 [==============================] - 1s 7ms/step - loss: 0.1882 - accuracy: 0.9963 - val_loss: 0.0709 - val_accuracy: 0.9990\n",
      "Epoch 4/10\n",
      "126/126 [==============================] - 1s 7ms/step - loss: 0.0298 - accuracy: 0.9985 - val_loss: 0.0188 - val_accuracy: 0.9990\n",
      "Epoch 5/10\n",
      "126/126 [==============================] - 1s 8ms/step - loss: 0.0103 - accuracy: 0.9988 - val_loss: 0.0116 - val_accuracy: 0.9990\n",
      "Epoch 6/10\n",
      "126/126 [==============================] - 1s 7ms/step - loss: 0.0064 - accuracy: 0.9993 - val_loss: 0.0097 - val_accuracy: 0.9990\n",
      "Epoch 7/10\n",
      "126/126 [==============================] - 1s 7ms/step - loss: 0.0049 - accuracy: 0.9990 - val_loss: 0.0093 - val_accuracy: 0.9990\n",
      "Epoch 8/10\n",
      "126/126 [==============================] - 1s 7ms/step - loss: 0.0040 - accuracy: 0.9990 - val_loss: 0.0090 - val_accuracy: 0.9990\n",
      "Epoch 9/10\n",
      "126/126 [==============================] - 1s 8ms/step - loss: 0.0033 - accuracy: 0.9990 - val_loss: 0.0097 - val_accuracy: 0.9990\n",
      "Epoch 10/10\n",
      "126/126 [==============================] - 1s 8ms/step - loss: 0.0032 - accuracy: 0.9995 - val_loss: 0.0093 - val_accuracy: 0.9990\n"
     ]
    },
    {
     "data": {
      "text/plain": [
       "<tensorflow.python.keras.callbacks.History at 0x14cb91910>"
      ]
     },
     "execution_count": 47,
     "metadata": {},
     "output_type": "execute_result"
    }
   ],
   "source": [
    "x, y = shuffle(x_train, y_train)\n",
    "model.fit(x, y, batch_size=32, epochs=10, validation_data=(x_val, y_val))"
   ]
  },
  {
   "cell_type": "code",
   "execution_count": 48,
   "metadata": {},
   "outputs": [
    {
     "name": "stdout",
     "output_type": "stream",
     "text": [
      "31/31 [==============================] - 0s 2ms/step - loss: 0.0187 - accuracy: 0.9917\n"
     ]
    },
    {
     "data": {
      "text/plain": [
       "[0.01867806911468506, 0.9916926026344299]"
      ]
     },
     "execution_count": 48,
     "metadata": {},
     "output_type": "execute_result"
    }
   ],
   "source": [
    "model.evaluate(x_test, y_test)"
   ]
  },
  {
   "cell_type": "code",
   "execution_count": null,
   "metadata": {},
   "outputs": [],
   "source": []
  }
 ],
 "metadata": {
  "kernelspec": {
   "display_name": "Python 3",
   "language": "python",
   "name": "python3"
  },
  "language_info": {
   "codemirror_mode": {
    "name": "ipython",
    "version": 3
   },
   "file_extension": ".py",
   "mimetype": "text/x-python",
   "name": "python",
   "nbconvert_exporter": "python",
   "pygments_lexer": "ipython3",
   "version": "3.8.2"
  }
 },
 "nbformat": 4,
 "nbformat_minor": 4
}

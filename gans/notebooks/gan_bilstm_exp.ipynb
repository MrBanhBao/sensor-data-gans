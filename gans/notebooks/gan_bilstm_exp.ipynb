{
 "cells": [
  {
   "cell_type": "code",
   "execution_count": 1,
   "metadata": {},
   "outputs": [
    {
     "name": "stdout",
     "output_type": "stream",
     "text": [
      "/Users/hao/workspace/hpi_de/4th_Semester/Applied Machine Learning/sensor-data-gans\n"
     ]
    }
   ],
   "source": [
    "cd ../.."
   ]
  },
  {
   "cell_type": "code",
   "execution_count": 2,
   "metadata": {},
   "outputs": [],
   "source": [
    "import numpy as np\n",
    "import pandas as pd\n",
    "from numpy.random import randn\n",
    "import tensorflow as tf\n",
    "from tensorflow.keras.models import Sequential\n",
    "from tensorflow.keras.layers import Input, Dense, Flatten, LSTM, LeakyReLU, Reshape, BatchNormalization, Bidirectional\n",
    "from tensorflow.keras.optimizers import Adam\n",
    "from sklearn.utils import shuffle\n",
    "from gans.utils import create_gan, train_gan\n",
    "from utils.windowing import windowing_dataframe, transform_windows_df\n",
    "from utils.preprocess import filter_by_activity_index, calc_consultant\n",
    "from utils.plotting import plot_n_heatmaps, plot_n_lineplots\n",
    "import seaborn as sns"
   ]
  },
  {
   "cell_type": "code",
   "execution_count": 3,
   "metadata": {},
   "outputs": [],
   "source": [
    "def create_discriminator(input_shape, optimizer=Adam(learning_rate=0.0001, clipvalue=1.0, decay=1e-8)):\n",
    "    discriminator = Sequential()\n",
    "    discriminator.add(LSTM(5, return_sequences=True, input_shape=input_shape))\n",
    "    discriminator.add(Flatten())\n",
    "    discriminator.add(Dense(1, activation='sigmoid'))\n",
    "    \n",
    "    discriminator.compile(loss='binary_crossentropy', optimizer=optimizer, metrics=['accuracy'])\n",
    "    return discriminator"
   ]
  },
  {
   "cell_type": "code",
   "execution_count": 4,
   "metadata": {},
   "outputs": [],
   "source": [
    "def create_generator(latent_dim, small=True):\n",
    "    if small:\n",
    "        generator = Sequential()\n",
    "        generator.add(Dense(window_size, kernel_initializer='he_uniform', input_shape=(latent_dim, )))\n",
    "        generator.add(LeakyReLU())\n",
    "        generator.add(BatchNormalization())\n",
    "        generator.add(Reshape((window_size, 1)))\n",
    "        generator.add(Bidirectional(LSTM(6, return_sequences=True, kernel_initializer='he_uniform')))\n",
    "        generator.add(LeakyReLU())\n",
    "        generator.add(BatchNormalization())\n",
    "        generator.add(LSTM(3, return_sequences=True, kernel_initializer='he_uniform', activation='linear'))\n",
    "    else:\n",
    "        generator = Sequential()\n",
    "        generator.add(Dense(window_size, kernel_initializer='he_uniform', input_shape=(latent_dim, )))\n",
    "        generator.add(LeakyReLU())\n",
    "        generator.add(BatchNormalization())\n",
    "        generator.add(Reshape((window_size, 1)))\n",
    "        generator.add(Bidirectional(LSTM(12, return_sequences=True, kernel_initializer='he_uniform')))\n",
    "        generator.add(LeakyReLU())\n",
    "        generator.add(BatchNormalization())\n",
    "        generator.add(Bidirectional(LSTM(9, return_sequences=True, kernel_initializer='he_uniform')))\n",
    "        generator.add(LeakyReLU())\n",
    "        generator.add(BatchNormalization())\n",
    "        generator.add(Bidirectional(LSTM(6, return_sequences=True, kernel_initializer='he_uniform')))\n",
    "        generator.add(LeakyReLU())\n",
    "        generator.add(BatchNormalization())\n",
    "        generator.add(LSTM(3, return_sequences=True, kernel_initializer='he_uniform', activation='linear'))\n",
    "    \n",
    "    return generator"
   ]
  },
  {
   "cell_type": "code",
   "execution_count": 5,
   "metadata": {},
   "outputs": [],
   "source": [
    "act_id = 0\n",
    "\n",
    "latent_dim = 64\n",
    "steps = 1000\n",
    "batch_size = 32\n",
    "\n",
    "num_gen = 1000\n",
    "add_sample_num = 500"
   ]
  },
  {
   "cell_type": "code",
   "execution_count": 6,
   "metadata": {},
   "outputs": [],
   "source": [
    "train_df = pd.read_hdf('./datasets/mydata/train_df.h5')\n",
    "val_df = pd.read_hdf('./datasets/mydata/val_df.h5')\n",
    "test_df = pd.read_hdf('./datasets/mydata/test_df.h5')"
   ]
  },
  {
   "cell_type": "code",
   "execution_count": 7,
   "metadata": {},
   "outputs": [],
   "source": [
    "window_size = 5*50\n",
    "step_size = int(window_size/2)\n",
    "col_names = ['userAcceleration.x', 'userAcceleration.y', 'userAcceleration.z', 'userAcceleration.c']\n",
    "method ='sliding'"
   ]
  },
  {
   "cell_type": "code",
   "execution_count": 8,
   "metadata": {},
   "outputs": [],
   "source": [
    "train_windowed_df = windowing_dataframe(train_df, window_size=window_size, step_or_sample_size=step_size, col_names=col_names, method=method)\n",
    "val_windowed_df = windowing_dataframe(val_df, window_size=window_size, step_or_sample_size=step_size, col_names=col_names, method=method)\n",
    "test_windowed_df = windowing_dataframe(test_df, window_size=window_size, step_or_sample_size=step_size, col_names=col_names, method=method)"
   ]
  },
  {
   "cell_type": "code",
   "execution_count": 9,
   "metadata": {},
   "outputs": [],
   "source": [
    "input_cols = ['userAcceleration.x', 'userAcceleration.y', 'userAcceleration.z']\n",
    "x_train, y_train = transform_windows_df(train_windowed_df, input_cols=input_cols, one_hot_encode=False, as_channel=False)\n",
    "x_val, y_val = transform_windows_df(val_windowed_df, input_cols=input_cols, one_hot_encode=False, as_channel=False)\n",
    "x_test, y_test = transform_windows_df(test_windowed_df, input_cols=input_cols, one_hot_encode=False, as_channel=False)"
   ]
  },
  {
   "cell_type": "code",
   "execution_count": 10,
   "metadata": {},
   "outputs": [],
   "source": [
    "x_train_activity, _ = filter_by_activity_index(x=x_train, y=y_train, activity_idx=0)"
   ]
  },
  {
   "cell_type": "code",
   "execution_count": 11,
   "metadata": {},
   "outputs": [],
   "source": [
    "from sklearn.svm import SVC\n",
    "from sklearn.metrics import classification_report, confusion_matrix, accuracy_score\n",
    "labels=[\"standing\", \"waldking\", \"jogging\"]"
   ]
  },
  {
   "cell_type": "code",
   "execution_count": 12,
   "metadata": {},
   "outputs": [],
   "source": [
    "input_cols = ['userAcceleration.c']\n",
    "x_train_clf, y_train_clf = transform_windows_df(train_windowed_df, input_cols=input_cols, one_hot_encode=False, as_channel=False)\n",
    "x_val_clf, y_val_clf = transform_windows_df(val_windowed_df, input_cols=input_cols, one_hot_encode=False, as_channel=False)\n",
    "x_test_clf, y_test_clf = transform_windows_df(test_windowed_df, input_cols=input_cols, one_hot_encode=False, as_channel=False)"
   ]
  },
  {
   "cell_type": "code",
   "execution_count": 13,
   "metadata": {},
   "outputs": [],
   "source": [
    "x_train_clf = x_train_clf.reshape((len(x_train_clf), window_size))\n",
    "x_val_clf = x_val_clf.reshape((len(x_val_clf), window_size))\n",
    "x_test_clf = x_test_clf.reshape((len(x_test_clf), window_size))"
   ]
  },
  {
   "cell_type": "code",
   "execution_count": 14,
   "metadata": {},
   "outputs": [
    {
     "data": {
      "text/plain": [
       "SVC()"
      ]
     },
     "execution_count": 14,
     "metadata": {},
     "output_type": "execute_result"
    }
   ],
   "source": [
    "svm_clf = SVC()\n",
    "svm_clf.fit(x_train_clf, y_train_clf)"
   ]
  },
  {
   "cell_type": "markdown",
   "metadata": {},
   "source": [
    "#### train performance"
   ]
  },
  {
   "cell_type": "code",
   "execution_count": 15,
   "metadata": {},
   "outputs": [
    {
     "ename": "KeyboardInterrupt",
     "evalue": "",
     "output_type": "error",
     "traceback": [
      "\u001b[0;31m---------------------------------------------------------------------------\u001b[0m",
      "\u001b[0;31mKeyboardInterrupt\u001b[0m                         Traceback (most recent call last)",
      "\u001b[0;32m<ipython-input-15-bfffee2dc68e>\u001b[0m in \u001b[0;36m<module>\u001b[0;34m\u001b[0m\n\u001b[0;32m----> 1\u001b[0;31m \u001b[0my_train_head\u001b[0m \u001b[0;34m=\u001b[0m \u001b[0msvm_clf\u001b[0m\u001b[0;34m.\u001b[0m\u001b[0mpredict\u001b[0m\u001b[0;34m(\u001b[0m\u001b[0mx_train_clf\u001b[0m\u001b[0;34m)\u001b[0m\u001b[0;34m\u001b[0m\u001b[0;34m\u001b[0m\u001b[0m\n\u001b[0m\u001b[1;32m      2\u001b[0m \u001b[0mprint\u001b[0m\u001b[0;34m(\u001b[0m\u001b[0mclassification_report\u001b[0m\u001b[0;34m(\u001b[0m\u001b[0my_train_clf\u001b[0m\u001b[0;34m,\u001b[0m \u001b[0my_train_head\u001b[0m\u001b[0;34m,\u001b[0m \u001b[0mtarget_names\u001b[0m\u001b[0;34m=\u001b[0m\u001b[0mlabels\u001b[0m\u001b[0;34m)\u001b[0m\u001b[0;34m)\u001b[0m\u001b[0;34m\u001b[0m\u001b[0;34m\u001b[0m\u001b[0m\n",
      "\u001b[0;32m~/.local/share/virtualenvs/sensor-data-gans-ihZBt7we/lib/python3.8/site-packages/sklearn/svm/_base.py\u001b[0m in \u001b[0;36mpredict\u001b[0;34m(self, X)\u001b[0m\n\u001b[1;32m    613\u001b[0m             \u001b[0my\u001b[0m \u001b[0;34m=\u001b[0m \u001b[0mnp\u001b[0m\u001b[0;34m.\u001b[0m\u001b[0margmax\u001b[0m\u001b[0;34m(\u001b[0m\u001b[0mself\u001b[0m\u001b[0;34m.\u001b[0m\u001b[0mdecision_function\u001b[0m\u001b[0;34m(\u001b[0m\u001b[0mX\u001b[0m\u001b[0;34m)\u001b[0m\u001b[0;34m,\u001b[0m \u001b[0maxis\u001b[0m\u001b[0;34m=\u001b[0m\u001b[0;36m1\u001b[0m\u001b[0;34m)\u001b[0m\u001b[0;34m\u001b[0m\u001b[0;34m\u001b[0m\u001b[0m\n\u001b[1;32m    614\u001b[0m         \u001b[0;32melse\u001b[0m\u001b[0;34m:\u001b[0m\u001b[0;34m\u001b[0m\u001b[0;34m\u001b[0m\u001b[0m\n\u001b[0;32m--> 615\u001b[0;31m             \u001b[0my\u001b[0m \u001b[0;34m=\u001b[0m \u001b[0msuper\u001b[0m\u001b[0;34m(\u001b[0m\u001b[0;34m)\u001b[0m\u001b[0;34m.\u001b[0m\u001b[0mpredict\u001b[0m\u001b[0;34m(\u001b[0m\u001b[0mX\u001b[0m\u001b[0;34m)\u001b[0m\u001b[0;34m\u001b[0m\u001b[0;34m\u001b[0m\u001b[0m\n\u001b[0m\u001b[1;32m    616\u001b[0m         \u001b[0;32mreturn\u001b[0m \u001b[0mself\u001b[0m\u001b[0;34m.\u001b[0m\u001b[0mclasses_\u001b[0m\u001b[0;34m.\u001b[0m\u001b[0mtake\u001b[0m\u001b[0;34m(\u001b[0m\u001b[0mnp\u001b[0m\u001b[0;34m.\u001b[0m\u001b[0masarray\u001b[0m\u001b[0;34m(\u001b[0m\u001b[0my\u001b[0m\u001b[0;34m,\u001b[0m \u001b[0mdtype\u001b[0m\u001b[0;34m=\u001b[0m\u001b[0mnp\u001b[0m\u001b[0;34m.\u001b[0m\u001b[0mintp\u001b[0m\u001b[0;34m)\u001b[0m\u001b[0;34m)\u001b[0m\u001b[0;34m\u001b[0m\u001b[0;34m\u001b[0m\u001b[0m\n\u001b[1;32m    617\u001b[0m \u001b[0;34m\u001b[0m\u001b[0m\n",
      "\u001b[0;32m~/.local/share/virtualenvs/sensor-data-gans-ihZBt7we/lib/python3.8/site-packages/sklearn/svm/_base.py\u001b[0m in \u001b[0;36mpredict\u001b[0;34m(self, X)\u001b[0m\n\u001b[1;32m    333\u001b[0m         \u001b[0mX\u001b[0m \u001b[0;34m=\u001b[0m \u001b[0mself\u001b[0m\u001b[0;34m.\u001b[0m\u001b[0m_validate_for_predict\u001b[0m\u001b[0;34m(\u001b[0m\u001b[0mX\u001b[0m\u001b[0;34m)\u001b[0m\u001b[0;34m\u001b[0m\u001b[0;34m\u001b[0m\u001b[0m\n\u001b[1;32m    334\u001b[0m         \u001b[0mpredict\u001b[0m \u001b[0;34m=\u001b[0m \u001b[0mself\u001b[0m\u001b[0;34m.\u001b[0m\u001b[0m_sparse_predict\u001b[0m \u001b[0;32mif\u001b[0m \u001b[0mself\u001b[0m\u001b[0;34m.\u001b[0m\u001b[0m_sparse\u001b[0m \u001b[0;32melse\u001b[0m \u001b[0mself\u001b[0m\u001b[0;34m.\u001b[0m\u001b[0m_dense_predict\u001b[0m\u001b[0;34m\u001b[0m\u001b[0;34m\u001b[0m\u001b[0m\n\u001b[0;32m--> 335\u001b[0;31m         \u001b[0;32mreturn\u001b[0m \u001b[0mpredict\u001b[0m\u001b[0;34m(\u001b[0m\u001b[0mX\u001b[0m\u001b[0;34m)\u001b[0m\u001b[0;34m\u001b[0m\u001b[0;34m\u001b[0m\u001b[0m\n\u001b[0m\u001b[1;32m    336\u001b[0m \u001b[0;34m\u001b[0m\u001b[0m\n\u001b[1;32m    337\u001b[0m     \u001b[0;32mdef\u001b[0m \u001b[0m_dense_predict\u001b[0m\u001b[0;34m(\u001b[0m\u001b[0mself\u001b[0m\u001b[0;34m,\u001b[0m \u001b[0mX\u001b[0m\u001b[0;34m)\u001b[0m\u001b[0;34m:\u001b[0m\u001b[0;34m\u001b[0m\u001b[0;34m\u001b[0m\u001b[0m\n",
      "\u001b[0;32m~/.local/share/virtualenvs/sensor-data-gans-ihZBt7we/lib/python3.8/site-packages/sklearn/svm/_base.py\u001b[0m in \u001b[0;36m_dense_predict\u001b[0;34m(self, X)\u001b[0m\n\u001b[1;32m    350\u001b[0m         \u001b[0msvm_type\u001b[0m \u001b[0;34m=\u001b[0m \u001b[0mLIBSVM_IMPL\u001b[0m\u001b[0;34m.\u001b[0m\u001b[0mindex\u001b[0m\u001b[0;34m(\u001b[0m\u001b[0mself\u001b[0m\u001b[0;34m.\u001b[0m\u001b[0m_impl\u001b[0m\u001b[0;34m)\u001b[0m\u001b[0;34m\u001b[0m\u001b[0;34m\u001b[0m\u001b[0m\n\u001b[1;32m    351\u001b[0m \u001b[0;34m\u001b[0m\u001b[0m\n\u001b[0;32m--> 352\u001b[0;31m         return libsvm.predict(\n\u001b[0m\u001b[1;32m    353\u001b[0m             \u001b[0mX\u001b[0m\u001b[0;34m,\u001b[0m \u001b[0mself\u001b[0m\u001b[0;34m.\u001b[0m\u001b[0msupport_\u001b[0m\u001b[0;34m,\u001b[0m \u001b[0mself\u001b[0m\u001b[0;34m.\u001b[0m\u001b[0msupport_vectors_\u001b[0m\u001b[0;34m,\u001b[0m \u001b[0mself\u001b[0m\u001b[0;34m.\u001b[0m\u001b[0m_n_support\u001b[0m\u001b[0;34m,\u001b[0m\u001b[0;34m\u001b[0m\u001b[0;34m\u001b[0m\u001b[0m\n\u001b[1;32m    354\u001b[0m             \u001b[0mself\u001b[0m\u001b[0;34m.\u001b[0m\u001b[0m_dual_coef_\u001b[0m\u001b[0;34m,\u001b[0m \u001b[0mself\u001b[0m\u001b[0;34m.\u001b[0m\u001b[0m_intercept_\u001b[0m\u001b[0;34m,\u001b[0m\u001b[0;34m\u001b[0m\u001b[0;34m\u001b[0m\u001b[0m\n",
      "\u001b[0;31mKeyboardInterrupt\u001b[0m: "
     ]
    }
   ],
   "source": [
    "y_train_head = svm_clf.predict(x_train_clf)\n",
    "print(classification_report(y_train_clf, y_train_head, target_names=labels))"
   ]
  },
  {
   "cell_type": "code",
   "execution_count": null,
   "metadata": {},
   "outputs": [],
   "source": [
    "cm = confusion_matrix(y_train_clf, y_train_head)\n",
    "cm_df = pd.DataFrame(cm, index = labels,\n",
    "                  columns = labels)\n",
    "sns.heatmap(cm_df, annot=True, cmap='YlGnBu', fmt='g')"
   ]
  },
  {
   "cell_type": "code",
   "execution_count": null,
   "metadata": {},
   "outputs": [],
   "source": [
    "orig_train_acc = accuracy_score(y_train_clf, y_train_head)\n",
    "orig_train_acc"
   ]
  },
  {
   "cell_type": "markdown",
   "metadata": {},
   "source": [
    "#### test performance"
   ]
  },
  {
   "cell_type": "code",
   "execution_count": null,
   "metadata": {},
   "outputs": [],
   "source": [
    "y_test_head = svm_clf.predict(x_test_clf)"
   ]
  },
  {
   "cell_type": "code",
   "execution_count": null,
   "metadata": {},
   "outputs": [],
   "source": [
    "print(classification_report(y_test_clf, y_test_head, target_names=labels))"
   ]
  },
  {
   "cell_type": "code",
   "execution_count": null,
   "metadata": {},
   "outputs": [],
   "source": [
    "cm = confusion_matrix(y_test, y_test_head)\n",
    "cm_df = pd.DataFrame(cm, index = labels,\n",
    "                  columns = labels)\n",
    "sns.heatmap(cm_df, annot=True, cmap='YlGnBu', fmt='g')"
   ]
  },
  {
   "cell_type": "code",
   "execution_count": null,
   "metadata": {},
   "outputs": [],
   "source": [
    "orig_test_acc = accuracy_score(y_test_clf, y_test_head)\n",
    "orig_test_acc"
   ]
  },
  {
   "cell_type": "code",
   "execution_count": null,
   "metadata": {},
   "outputs": [],
   "source": [
    "### GAN"
   ]
  },
  {
   "cell_type": "code",
   "execution_count": null,
   "metadata": {},
   "outputs": [],
   "source": [
    "input_shape = x_train[0].shape\n",
    "discriminator = create_discriminator(input_shape);\n",
    "generator = create_generator(latent_dim)\n",
    "gan = create_gan(generator_model=generator, discriminator_model=discriminator)"
   ]
  },
  {
   "cell_type": "code",
   "execution_count": null,
   "metadata": {},
   "outputs": [],
   "source": [
    "train_gan(generator, discriminator, gan, x_train_activity, steps)"
   ]
  },
  {
   "cell_type": "code",
   "execution_count": null,
   "metadata": {},
   "outputs": [],
   "source": [
    "## eval"
   ]
  },
  {
   "cell_type": "code",
   "execution_count": null,
   "metadata": {},
   "outputs": [],
   "source": [
    "random_latent_vectors = np.random.normal(size=(num_gen, latent_dim))\n",
    "generated_sensor_data = generator.predict(random_latent_vectors)"
   ]
  },
  {
   "cell_type": "code",
   "execution_count": null,
   "metadata": {},
   "outputs": [],
   "source": [
    "gen_df = pd.DataFrame(np.array([ts.transpose() for ts in generated_sensor_data]).tolist(), columns= ['userAcceleration.x', 'userAcceleration.y', 'userAcceleration.z'])\n",
    "gen_df['userAcceleration.c'] = calc_consultant(gen_df)\n",
    "gen_df['act'] = act_id"
   ]
  },
  {
   "cell_type": "code",
   "execution_count": null,
   "metadata": {},
   "outputs": [],
   "source": [
    "gen_windowed_df = windowing_dataframe(gen_df, window_size=window_size, step_or_sample_size=step_size, col_names=col_names, method=method)\n",
    "    \n",
    "input_cols = ['userAcceleration.c']\n",
    "x_gen, y_gen = transform_windows_df(val_windowed_df, input_cols=input_cols, one_hot_encode=False, as_channel=False)\n",
    "x_gen = x_gen.reshape((len(x_gen), window_size))\n",
    "\n",
    "x_train_gen = np.concatenate([x_train_clf, x_gen[:add_sample_num]])\n",
    "y_train_gen = np.concatenate([y_train_clf, np.zeros(add_sample_num)])"
   ]
  },
  {
   "cell_type": "code",
   "execution_count": null,
   "metadata": {},
   "outputs": [],
   "source": [
    "svm_clf = SVC()\n",
    "svm_clf.fit(x_train_gen, y_train_gen)\n",
    "    \n",
    "y_train_head = svm_clf.predict(x_train_clf)\n",
    "train_acc = accuracy_score(y_train_clf, y_train_head)\n",
    "    \n",
    "y_test_head = svm_clf.predict(x_test_clf)\n",
    "test_acc = accuracy_score(y_test_clf, y_test_head)"
   ]
  },
  {
   "cell_type": "code",
   "execution_count": null,
   "metadata": {},
   "outputs": [],
   "source": [
    "print('Gen Train acc:', train_acc, 'vs.', orig_train_acc, ': Orig Train Acc')\n",
    "print('Gen Test acc:', test_acc, 'vs.', orig_test_acc, 'Orig Test Acc')"
   ]
  },
  {
   "cell_type": "code",
   "execution_count": null,
   "metadata": {},
   "outputs": [],
   "source": [
    "plot_n_heatmaps(x_train_activity, generated_sensor_data, n=10)"
   ]
  },
  {
   "cell_type": "code",
   "execution_count": null,
   "metadata": {},
   "outputs": [],
   "source": [
    "plot_n_lineplots(x_train_activity, generated_sensor_data, n=10)"
   ]
  },
  {
   "cell_type": "code",
   "execution_count": null,
   "metadata": {},
   "outputs": [],
   "source": []
  },
  {
   "cell_type": "code",
   "execution_count": null,
   "metadata": {},
   "outputs": [],
   "source": [
    "random_latent_vectors = np.random.normal(size=(num_gen, latent_dim))\n",
    "generated_sensor_data = generator.predict(random_latent_vectors)\n",
    "\n",
    "gen_df = pd.DataFrame(np.array([ts.transpose() for ts in generated_sensor_data]).tolist(), columns= ['userAcceleration.x', 'userAcceleration.y', 'userAcceleration.z'])\n",
    "gen_df['userAcceleration.c'] = calc_consultant(gen_df)\n",
    "gen_df['act'] = act_id\n",
    "\n",
    "gen_windowed_df = windowing_dataframe(gen_df, window_size=window_size, step_or_sample_size=step_size, col_names=col_names, method=method)\n",
    "    \n",
    "input_cols = ['userAcceleration.c']\n",
    "x_gen, y_gen = transform_windows_df(val_windowed_df, input_cols=input_cols, one_hot_encode=False, as_channel=False)\n",
    "x_gen = x_gen.reshape((len(x_gen), window_size))\n",
    "\n",
    "x_train_gen = np.concatenate([x_train_clf, x_gen[:add_sample_num]])\n",
    "y_train_gen = np.concatenate([y_train_clf, np.zeros(add_sample_num)])\n",
    "\n",
    "svm_clf = SVC()\n",
    "svm_clf.fit(x_train_gen, y_train_gen)\n",
    "    \n",
    "y_train_head = svm_clf.predict(x_train_clf)\n",
    "train_acc = accuracy_score(y_train_clf, y_train_head)\n",
    "    \n",
    "y_test_head = svm_clf.predict(x_test_clf)\n",
    "test_acc = accuracy_score(y_test_clf, y_test_head)\n",
    "\n",
    "plot_n_heatmaps(x_train_activity, generated_sensor_data, n=10, save_dir='out/steps-{}_latentdim-{}_kernelnum-{}_kernelsize-{}_small-{}'.format(steps, latent_dim, kernel_num, kernel_size, small))\n",
    "plot_n_lineplots(x_train_activity, generated_sensor_data, n=10, save_dir='out/steps-{}_latentdim-{}_kernelnum-{}_kernelsize-{}_small-{}'.format(steps, latent_dim, kernel_num, kernel_size, small))\n",
    "\n",
    "file = open('out/steps-{}_latentdim-{}_kernelnum-{}_kernelsize-{}_small-{}/acc.txt'.format(steps, latent_dim, kernel_num, kernel_size, small), 'w+')\n",
    "file.write(f'Gen Train acc:', train_acc, 'vs.', orig_train_acc, ':Orig Train Acc')\n",
    "file.write(f'Gen Test acc:', test_acc, 'vs.', orig_test_acc, ':Orig Test Acc')\n",
    "file.close()"
   ]
  },
  {
   "cell_type": "code",
   "execution_count": null,
   "metadata": {},
   "outputs": [],
   "source": []
  }
 ],
 "metadata": {
  "kernelspec": {
   "display_name": "Python 3",
   "language": "python",
   "name": "python3"
  },
  "language_info": {
   "codemirror_mode": {
    "name": "ipython",
    "version": 3
   },
   "file_extension": ".py",
   "mimetype": "text/x-python",
   "name": "python",
   "nbconvert_exporter": "python",
   "pygments_lexer": "ipython3",
   "version": "3.8.2"
  }
 },
 "nbformat": 4,
 "nbformat_minor": 4
}

{
 "cells": [
  {
   "cell_type": "code",
   "execution_count": 2,
   "metadata": {},
   "outputs": [
    {
     "name": "stdout",
     "output_type": "stream",
     "text": [
      "/Users/hao/workspace/hpi_de/4th_Semester/Applied Machine Learning/sensor-data-gans\n"
     ]
    }
   ],
   "source": [
    "cd ../.."
   ]
  },
  {
   "cell_type": "code",
   "execution_count": 3,
   "metadata": {},
   "outputs": [],
   "source": [
    "import numpy as np\n",
    "import pandas as pd\n",
    "import tensorflow\n",
    "from sklearn.utils import shuffle\n",
    "from utils.windowing import windowing_dataframe, transform_windows_df"
   ]
  },
  {
   "cell_type": "markdown",
   "metadata": {},
   "source": [
    "## Read Data"
   ]
  },
  {
   "cell_type": "code",
   "execution_count": 4,
   "metadata": {},
   "outputs": [],
   "source": [
    "train_df = pd.read_hdf('./datasets/mydata/train_df.h5')\n",
    "val_df = pd.read_hdf('./datasets/mydata/val_df.h5')\n",
    "test_df = pd.read_hdf('./datasets/mydata/test_df.h5')"
   ]
  },
  {
   "cell_type": "markdown",
   "metadata": {},
   "source": [
    "## Windowing Timeseries Data"
   ]
  },
  {
   "cell_type": "code",
   "execution_count": 5,
   "metadata": {},
   "outputs": [],
   "source": [
    "window_size = 5*50\n",
    "step_size = int(window_size/2)\n",
    "col_names = ['userAcceleration.x', 'userAcceleration.y', 'userAcceleration.z', 'userAcceleration.c']\n",
    "method ='sliding'"
   ]
  },
  {
   "cell_type": "code",
   "execution_count": 6,
   "metadata": {},
   "outputs": [],
   "source": [
    "train_windowed_df = windowing_dataframe(train_df, window_size=window_size, step_or_sample_size=step_size, col_names=col_names, method=method)\n",
    "val_windowed_df = windowing_dataframe(val_df, window_size=window_size, step_or_sample_size=step_size, col_names=col_names, method=method)\n",
    "test_windowed_df = windowing_dataframe(test_df, window_size=window_size, step_or_sample_size=step_size, col_names=col_names, method=method)"
   ]
  },
  {
   "cell_type": "markdown",
   "metadata": {},
   "source": [
    "## Classifiers"
   ]
  },
  {
   "cell_type": "markdown",
   "metadata": {},
   "source": [
    "### SVM"
   ]
  },
  {
   "cell_type": "code",
   "execution_count": 6,
   "metadata": {},
   "outputs": [],
   "source": [
    "from sklearn.svm import SVC\n",
    "from sklearn.metrics import classification_report"
   ]
  },
  {
   "cell_type": "code",
   "execution_count": 7,
   "metadata": {},
   "outputs": [],
   "source": [
    "input_cols = ['userAcceleration.c']\n",
    "x_train, y_train = transform_windows_df(train_windowed_df, input_cols=input_cols, one_hot_encode=False, as_channel=False)\n",
    "x_val, y_val = transform_windows_df(val_windowed_df, input_cols=input_cols, one_hot_encode=False, as_channel=False)\n",
    "x_test, y_test = transform_windows_df(test_windowed_df, input_cols=input_cols, one_hot_encode=False, as_channel=False)"
   ]
  },
  {
   "cell_type": "code",
   "execution_count": 8,
   "metadata": {},
   "outputs": [],
   "source": [
    "x_train = np.concatenate([x_train, x_val])\n",
    "y_train = np.concatenate([y_train, y_val])"
   ]
  },
  {
   "cell_type": "code",
   "execution_count": 9,
   "metadata": {},
   "outputs": [],
   "source": [
    "x_train = x_train.reshape((len(x_train), window_size))\n",
    "x_test = x_test.reshape((len(x_test), window_size))"
   ]
  },
  {
   "cell_type": "code",
   "execution_count": 10,
   "metadata": {},
   "outputs": [
    {
     "data": {
      "text/plain": [
       "SVC()"
      ]
     },
     "execution_count": 10,
     "metadata": {},
     "output_type": "execute_result"
    }
   ],
   "source": [
    "svm_clf = SVC()\n",
    "svm_clf.fit(x_train, y_train)"
   ]
  },
  {
   "cell_type": "markdown",
   "metadata": {},
   "source": [
    "#### train performance"
   ]
  },
  {
   "cell_type": "code",
   "execution_count": 11,
   "metadata": {},
   "outputs": [],
   "source": [
    "y_train_head = svm_clf.predict(x_train)"
   ]
  },
  {
   "cell_type": "code",
   "execution_count": 12,
   "metadata": {},
   "outputs": [
    {
     "name": "stdout",
     "output_type": "stream",
     "text": [
      "              precision    recall  f1-score   support\n",
      "\n",
      "         0.0       0.62      1.00      0.77      1977\n",
      "         1.0       0.87      0.46      0.61      2256\n",
      "         2.0       1.00      0.82      0.90       829\n",
      "\n",
      "    accuracy                           0.73      5062\n",
      "   macro avg       0.83      0.76      0.76      5062\n",
      "weighted avg       0.80      0.73      0.72      5062\n",
      "\n"
     ]
    }
   ],
   "source": [
    "print(classification_report(y_train, y_train_head))"
   ]
  },
  {
   "cell_type": "markdown",
   "metadata": {},
   "source": [
    "#### test performance"
   ]
  },
  {
   "cell_type": "code",
   "execution_count": 13,
   "metadata": {},
   "outputs": [],
   "source": [
    "y_test_head = svm_clf.predict(x_test)"
   ]
  },
  {
   "cell_type": "code",
   "execution_count": 14,
   "metadata": {},
   "outputs": [
    {
     "name": "stdout",
     "output_type": "stream",
     "text": [
      "              precision    recall  f1-score   support\n",
      "\n",
      "         0.0       0.69      1.00      0.82       403\n",
      "         1.0       0.78      0.35      0.49       387\n",
      "         2.0       0.67      0.78      0.72       173\n",
      "\n",
      "    accuracy                           0.70       963\n",
      "   macro avg       0.71      0.71      0.67       963\n",
      "weighted avg       0.72      0.70      0.67       963\n",
      "\n"
     ]
    }
   ],
   "source": [
    "print(classification_report(y_test, y_test_head))"
   ]
  },
  {
   "cell_type": "markdown",
   "metadata": {},
   "source": [
    "### CNN"
   ]
  },
  {
   "cell_type": "code",
   "execution_count": 65,
   "metadata": {},
   "outputs": [],
   "source": [
    "from tensorflow.keras.models import Sequential\n",
    "from tensorflow.keras.layers import Conv1D, Dense, MaxPool1D, GlobalMaxPool1D, Flatten, Dropout\n",
    "from sklearn.metrics import classification_report"
   ]
  },
  {
   "cell_type": "code",
   "execution_count": 66,
   "metadata": {},
   "outputs": [],
   "source": [
    "input_cols = ['userAcceleration.x', 'userAcceleration.y', 'userAcceleration.z']\n",
    "x_train, y_train = transform_windows_df(train_windowed_df, input_cols=input_cols, one_hot_encode=True, as_channel=False)\n",
    "x_val, y_val = transform_windows_df(val_windowed_df, input_cols=input_cols, one_hot_encode=True, as_channel=False)\n",
    "x_test, y_test = transform_windows_df(test_windowed_df, input_cols=input_cols, one_hot_encode=True, as_channel=False)"
   ]
  },
  {
   "cell_type": "code",
   "execution_count": 67,
   "metadata": {},
   "outputs": [],
   "source": [
    "input_shape = x_train[0].shape"
   ]
  },
  {
   "cell_type": "markdown",
   "metadata": {},
   "source": [
    "### build neural net"
   ]
  },
  {
   "cell_type": "code",
   "execution_count": 68,
   "metadata": {},
   "outputs": [
    {
     "name": "stdout",
     "output_type": "stream",
     "text": [
      "Model: \"sequential_12\"\n",
      "_________________________________________________________________\n",
      "Layer (type)                 Output Shape              Param #   \n",
      "=================================================================\n",
      "conv1d_13 (Conv1D)           (None, 246, 8)            128       \n",
      "_________________________________________________________________\n",
      "flatten_8 (Flatten)          (None, 1968)              0         \n",
      "_________________________________________________________________\n",
      "dense_15 (Dense)             (None, 3)                 5907      \n",
      "=================================================================\n",
      "Total params: 6,035\n",
      "Trainable params: 6,035\n",
      "Non-trainable params: 0\n",
      "_________________________________________________________________\n"
     ]
    }
   ],
   "source": [
    "model = Sequential()\n",
    "model.add(Conv1D(8, kernel_size=5, activation='relu', input_shape=input_shape))\n",
    "model.add(Flatten())\n",
    "model.add(Dense(3, activation='softmax'))\n",
    "\n",
    "model.summary()"
   ]
  },
  {
   "cell_type": "code",
   "execution_count": 69,
   "metadata": {},
   "outputs": [],
   "source": [
    "model.compile(loss='categorical_crossentropy', optimizer='adam', metrics=['accuracy'])"
   ]
  },
  {
   "cell_type": "code",
   "execution_count": 70,
   "metadata": {},
   "outputs": [
    {
     "name": "stdout",
     "output_type": "stream",
     "text": [
      "Epoch 1/10\n",
      "126/126 [==============================] - 0s 3ms/step - loss: 0.7394 - accuracy: 0.6749 - val_loss: 0.4074 - val_accuracy: 0.9498\n",
      "Epoch 2/10\n",
      "126/126 [==============================] - 0s 2ms/step - loss: 0.1963 - accuracy: 0.9593 - val_loss: 0.0693 - val_accuracy: 0.9894\n",
      "Epoch 3/10\n",
      "126/126 [==============================] - 0s 2ms/step - loss: 0.0580 - accuracy: 0.9918 - val_loss: 0.0517 - val_accuracy: 0.9846\n",
      "Epoch 4/10\n",
      "126/126 [==============================] - 0s 2ms/step - loss: 0.0317 - accuracy: 0.9958 - val_loss: 0.0297 - val_accuracy: 0.9971\n",
      "Epoch 5/10\n",
      "126/126 [==============================] - 0s 2ms/step - loss: 0.0209 - accuracy: 0.9975 - val_loss: 0.0287 - val_accuracy: 0.9961\n",
      "Epoch 6/10\n",
      "126/126 [==============================] - 0s 2ms/step - loss: 0.0149 - accuracy: 0.9978 - val_loss: 0.0333 - val_accuracy: 0.9942\n",
      "Epoch 7/10\n",
      "126/126 [==============================] - 0s 2ms/step - loss: 0.0114 - accuracy: 0.9988 - val_loss: 0.0315 - val_accuracy: 0.9952\n",
      "Epoch 8/10\n",
      "126/126 [==============================] - 0s 2ms/step - loss: 0.0096 - accuracy: 0.9985 - val_loss: 0.0306 - val_accuracy: 0.9952\n",
      "Epoch 9/10\n",
      "126/126 [==============================] - 0s 2ms/step - loss: 0.0076 - accuracy: 0.9988 - val_loss: 0.0352 - val_accuracy: 0.9942\n",
      "Epoch 10/10\n",
      "126/126 [==============================] - 0s 2ms/step - loss: 0.0067 - accuracy: 0.9990 - val_loss: 0.0314 - val_accuracy: 0.9952\n"
     ]
    },
    {
     "data": {
      "text/plain": [
       "<tensorflow.python.keras.callbacks.History at 0x148f48e20>"
      ]
     },
     "execution_count": 70,
     "metadata": {},
     "output_type": "execute_result"
    }
   ],
   "source": [
    "x, y = shuffle(x_train, y_train)\n",
    "model.fit(x, y, batch_size=32, epochs=10, validation_data=(x_val, y_val))"
   ]
  },
  {
   "cell_type": "markdown",
   "metadata": {},
   "source": [
    "#### training performance"
   ]
  },
  {
   "cell_type": "code",
   "execution_count": 83,
   "metadata": {},
   "outputs": [
    {
     "name": "stdout",
     "output_type": "stream",
     "text": [
      "126/126 [==============================] - 0s 1ms/step - loss: 0.0054 - accuracy: 0.9990\n"
     ]
    },
    {
     "data": {
      "text/plain": [
       "[0.0053551411256194115, 0.999006450176239]"
      ]
     },
     "execution_count": 83,
     "metadata": {},
     "output_type": "execute_result"
    }
   ],
   "source": [
    "model.evaluate(x, y)"
   ]
  },
  {
   "cell_type": "code",
   "execution_count": 71,
   "metadata": {},
   "outputs": [],
   "source": [
    "y_head = model.predict(x)"
   ]
  },
  {
   "cell_type": "code",
   "execution_count": 80,
   "metadata": {},
   "outputs": [
    {
     "name": "stdout",
     "output_type": "stream",
     "text": [
      "              precision    recall  f1-score   support\n",
      "\n",
      "           0       1.00      1.00      1.00      1547\n",
      "           1       1.00      1.00      1.00      1810\n",
      "           2       1.00      1.00      1.00       669\n",
      "\n",
      "    accuracy                           1.00      4026\n",
      "   macro avg       1.00      1.00      1.00      4026\n",
      "weighted avg       1.00      1.00      1.00      4026\n",
      "\n"
     ]
    }
   ],
   "source": [
    "print(classification_report(y.argmax(axis=-1), y_head.argmax(axis=-1)))"
   ]
  },
  {
   "cell_type": "markdown",
   "metadata": {},
   "source": [
    "#### test performance"
   ]
  },
  {
   "cell_type": "code",
   "execution_count": 84,
   "metadata": {},
   "outputs": [
    {
     "name": "stdout",
     "output_type": "stream",
     "text": [
      "31/31 [==============================] - 0s 1ms/step - loss: 0.0249 - accuracy: 0.9938\n"
     ]
    },
    {
     "data": {
      "text/plain": [
       "[0.024869784712791443, 0.9937694668769836]"
      ]
     },
     "execution_count": 84,
     "metadata": {},
     "output_type": "execute_result"
    }
   ],
   "source": [
    "model.evaluate(x_test, y_test)"
   ]
  },
  {
   "cell_type": "code",
   "execution_count": 81,
   "metadata": {},
   "outputs": [],
   "source": [
    "y_head = model.predict(x_test)"
   ]
  },
  {
   "cell_type": "code",
   "execution_count": 82,
   "metadata": {},
   "outputs": [
    {
     "name": "stdout",
     "output_type": "stream",
     "text": [
      "              precision    recall  f1-score   support\n",
      "\n",
      "           0       1.00      1.00      1.00       403\n",
      "           1       0.99      0.99      0.99       387\n",
      "           2       0.98      0.99      0.99       173\n",
      "\n",
      "    accuracy                           0.99       963\n",
      "   macro avg       0.99      0.99      0.99       963\n",
      "weighted avg       0.99      0.99      0.99       963\n",
      "\n"
     ]
    }
   ],
   "source": [
    "print(classification_report(y_test.argmax(axis=-1), y_head.argmax(axis=-1)))"
   ]
  },
  {
   "cell_type": "markdown",
   "metadata": {},
   "source": [
    "### LSTM"
   ]
  },
  {
   "cell_type": "code",
   "execution_count": 7,
   "metadata": {},
   "outputs": [],
   "source": [
    "from tensorflow.keras.models import Sequential\n",
    "from tensorflow.keras.layers import LSTM, Dense, Bidirectional, Dropout, Flatten, Dropout\n",
    "from sklearn.metrics import classification_report"
   ]
  },
  {
   "cell_type": "code",
   "execution_count": 8,
   "metadata": {},
   "outputs": [],
   "source": [
    "input_cols = ['userAcceleration.x', 'userAcceleration.y', 'userAcceleration.z']\n",
    "x_train, y_train = transform_windows_df(train_windowed_df, input_cols=input_cols, one_hot_encode=True, as_channel=False)\n",
    "x_val, y_val = transform_windows_df(val_windowed_df, input_cols=input_cols, one_hot_encode=True, as_channel=False)\n",
    "x_test, y_test = transform_windows_df(test_windowed_df, input_cols=input_cols, one_hot_encode=True, as_channel=False)"
   ]
  },
  {
   "cell_type": "code",
   "execution_count": 9,
   "metadata": {},
   "outputs": [],
   "source": [
    "input_shape = x_train[0].shape"
   ]
  },
  {
   "cell_type": "code",
   "execution_count": 20,
   "metadata": {},
   "outputs": [
    {
     "name": "stdout",
     "output_type": "stream",
     "text": [
      "Model: \"sequential_5\"\n",
      "_________________________________________________________________\n",
      "Layer (type)                 Output Shape              Param #   \n",
      "=================================================================\n",
      "lstm_5 (LSTM)                (None, 250, 8)            384       \n",
      "_________________________________________________________________\n",
      "flatten_3 (Flatten)          (None, 2000)              0         \n",
      "_________________________________________________________________\n",
      "dense_4 (Dense)              (None, 3)                 6003      \n",
      "=================================================================\n",
      "Total params: 6,387\n",
      "Trainable params: 6,387\n",
      "Non-trainable params: 0\n",
      "_________________________________________________________________\n"
     ]
    }
   ],
   "source": [
    "model = Sequential()\n",
    "model.add(LSTM(8, return_sequences=True, input_shape=input_shape))\n",
    "model.add(Flatten())\n",
    "model.add(Dense(3, activation='softmax'))\n",
    "\n",
    "model.summary()"
   ]
  },
  {
   "cell_type": "code",
   "execution_count": 21,
   "metadata": {},
   "outputs": [],
   "source": [
    "model.compile(loss='categorical_crossentropy', optimizer='adam', metrics=['accuracy'])"
   ]
  },
  {
   "cell_type": "code",
   "execution_count": 22,
   "metadata": {},
   "outputs": [
    {
     "name": "stdout",
     "output_type": "stream",
     "text": [
      "Epoch 1/10\n",
      "126/126 [==============================] - 8s 67ms/step - loss: 0.5413 - accuracy: 0.7958 - val_loss: 0.1456 - val_accuracy: 0.9710\n",
      "Epoch 2/10\n",
      "126/126 [==============================] - 8s 64ms/step - loss: 0.0647 - accuracy: 0.9824 - val_loss: 0.0514 - val_accuracy: 0.9903\n",
      "Epoch 3/10\n",
      "126/126 [==============================] - 8s 63ms/step - loss: 0.0354 - accuracy: 0.9908 - val_loss: 0.0479 - val_accuracy: 0.9932\n",
      "Epoch 4/10\n",
      "126/126 [==============================] - 8s 64ms/step - loss: 0.0287 - accuracy: 0.9928 - val_loss: 0.0468 - val_accuracy: 0.9932\n",
      "Epoch 5/10\n",
      "126/126 [==============================] - 8s 64ms/step - loss: 0.0190 - accuracy: 0.9953 - val_loss: 0.0486 - val_accuracy: 0.9952\n",
      "Epoch 6/10\n",
      "126/126 [==============================] - 8s 62ms/step - loss: 0.0210 - accuracy: 0.9945 - val_loss: 0.0385 - val_accuracy: 0.9971\n",
      "Epoch 7/10\n",
      "126/126 [==============================] - 8s 63ms/step - loss: 0.0128 - accuracy: 0.9963 - val_loss: 0.0336 - val_accuracy: 0.9971\n",
      "Epoch 8/10\n",
      "126/126 [==============================] - 8s 64ms/step - loss: 0.0099 - accuracy: 0.9975 - val_loss: 0.0407 - val_accuracy: 0.9952\n",
      "Epoch 9/10\n",
      "126/126 [==============================] - 8s 62ms/step - loss: 0.0073 - accuracy: 0.9988 - val_loss: 0.0412 - val_accuracy: 0.9952\n",
      "Epoch 10/10\n",
      "126/126 [==============================] - 8s 60ms/step - loss: 0.0076 - accuracy: 0.9985 - val_loss: 0.0450 - val_accuracy: 0.9952\n"
     ]
    },
    {
     "data": {
      "text/plain": [
       "<tensorflow.python.keras.callbacks.History at 0x145982910>"
      ]
     },
     "execution_count": 22,
     "metadata": {},
     "output_type": "execute_result"
    }
   ],
   "source": [
    "x, y = shuffle(x_train, y_train)\n",
    "model.fit(x, y, batch_size=32, epochs=10, validation_data=(x_val, y_val))"
   ]
  },
  {
   "cell_type": "markdown",
   "metadata": {},
   "source": [
    "#### training performance"
   ]
  },
  {
   "cell_type": "code",
   "execution_count": 23,
   "metadata": {},
   "outputs": [
    {
     "name": "stdout",
     "output_type": "stream",
     "text": [
      "126/126 [==============================] - 1s 10ms/step - loss: 0.0051 - accuracy: 0.9990\n"
     ]
    },
    {
     "data": {
      "text/plain": [
       "[0.005127791315317154, 0.999006450176239]"
      ]
     },
     "execution_count": 23,
     "metadata": {},
     "output_type": "execute_result"
    }
   ],
   "source": [
    "model.evaluate(x, y)"
   ]
  },
  {
   "cell_type": "code",
   "execution_count": 24,
   "metadata": {},
   "outputs": [],
   "source": [
    "y_head = model.predict(x)"
   ]
  },
  {
   "cell_type": "code",
   "execution_count": 25,
   "metadata": {},
   "outputs": [
    {
     "name": "stdout",
     "output_type": "stream",
     "text": [
      "              precision    recall  f1-score   support\n",
      "\n",
      "           0       1.00      1.00      1.00      1547\n",
      "           1       1.00      1.00      1.00      1810\n",
      "           2       1.00      1.00      1.00       669\n",
      "\n",
      "    accuracy                           1.00      4026\n",
      "   macro avg       1.00      1.00      1.00      4026\n",
      "weighted avg       1.00      1.00      1.00      4026\n",
      "\n"
     ]
    }
   ],
   "source": [
    "print(classification_report(y.argmax(axis=-1), y_head.argmax(axis=-1)))"
   ]
  },
  {
   "cell_type": "markdown",
   "metadata": {},
   "source": [
    "#### test performance"
   ]
  },
  {
   "cell_type": "code",
   "execution_count": 26,
   "metadata": {},
   "outputs": [
    {
     "name": "stdout",
     "output_type": "stream",
     "text": [
      "31/31 [==============================] - 0s 10ms/step - loss: 0.0202 - accuracy: 0.9948\n"
     ]
    },
    {
     "data": {
      "text/plain": [
       "[0.020177213475108147, 0.9948078989982605]"
      ]
     },
     "execution_count": 26,
     "metadata": {},
     "output_type": "execute_result"
    }
   ],
   "source": [
    "model.evaluate(x_test, y_test)"
   ]
  },
  {
   "cell_type": "code",
   "execution_count": 27,
   "metadata": {},
   "outputs": [],
   "source": [
    "y_head = model.predict(x_test)"
   ]
  },
  {
   "cell_type": "code",
   "execution_count": 28,
   "metadata": {},
   "outputs": [
    {
     "name": "stdout",
     "output_type": "stream",
     "text": [
      "              precision    recall  f1-score   support\n",
      "\n",
      "           0       1.00      1.00      1.00       403\n",
      "           1       0.99      1.00      0.99       387\n",
      "           2       1.00      0.98      0.99       173\n",
      "\n",
      "    accuracy                           0.99       963\n",
      "   macro avg       1.00      0.99      0.99       963\n",
      "weighted avg       0.99      0.99      0.99       963\n",
      "\n"
     ]
    }
   ],
   "source": [
    "print(classification_report(y_test.argmax(axis=-1), y_head.argmax(axis=-1)))"
   ]
  },
  {
   "cell_type": "markdown",
   "metadata": {},
   "source": [
    "### BiLSTM"
   ]
  },
  {
   "cell_type": "code",
   "execution_count": 30,
   "metadata": {},
   "outputs": [],
   "source": [
    "from tensorflow.keras.models import Sequential\n",
    "from tensorflow.keras.layers import LSTM, Dense, Bidirectional, Dropout, Flatten, Dropout\n",
    "from sklearn.metrics import classification_report"
   ]
  },
  {
   "cell_type": "code",
   "execution_count": 31,
   "metadata": {},
   "outputs": [],
   "source": [
    "input_cols = ['userAcceleration.x', 'userAcceleration.y', 'userAcceleration.z']\n",
    "x_train, y_train = transform_windows_df(train_windowed_df, input_cols=input_cols, one_hot_encode=True, as_channel=False)\n",
    "x_val, y_val = transform_windows_df(val_windowed_df, input_cols=input_cols, one_hot_encode=True, as_channel=False)\n",
    "x_test, y_test = transform_windows_df(test_windowed_df, input_cols=input_cols, one_hot_encode=True, as_channel=False)"
   ]
  },
  {
   "cell_type": "code",
   "execution_count": 32,
   "metadata": {},
   "outputs": [],
   "source": [
    "input_shape = x_train[0].shape"
   ]
  },
  {
   "cell_type": "code",
   "execution_count": 37,
   "metadata": {},
   "outputs": [
    {
     "name": "stdout",
     "output_type": "stream",
     "text": [
      "Model: \"sequential_10\"\n",
      "_________________________________________________________________\n",
      "Layer (type)                 Output Shape              Param #   \n",
      "=================================================================\n",
      "bidirectional_4 (Bidirection (None, 250, 16)           768       \n",
      "_________________________________________________________________\n",
      "flatten_8 (Flatten)          (None, 4000)              0         \n",
      "_________________________________________________________________\n",
      "dense_9 (Dense)              (None, 3)                 12003     \n",
      "=================================================================\n",
      "Total params: 12,771\n",
      "Trainable params: 12,771\n",
      "Non-trainable params: 0\n",
      "_________________________________________________________________\n"
     ]
    }
   ],
   "source": [
    "model = Sequential()\n",
    "model.add(Bidirectional(LSTM(8, return_sequences=True), input_shape=input_shape))\n",
    "model.add(Flatten())\n",
    "model.add(Dense(3, activation='softmax'))\n",
    "\n",
    "model.summary()"
   ]
  },
  {
   "cell_type": "code",
   "execution_count": 38,
   "metadata": {},
   "outputs": [],
   "source": [
    "model.compile(loss='categorical_crossentropy', optimizer='adam', metrics=['accuracy'])"
   ]
  },
  {
   "cell_type": "code",
   "execution_count": 39,
   "metadata": {},
   "outputs": [
    {
     "name": "stdout",
     "output_type": "stream",
     "text": [
      "Epoch 1/10\n",
      "126/126 [==============================] - 10s 77ms/step - loss: 0.3525 - accuracy: 0.8785 - val_loss: 0.0469 - val_accuracy: 0.9952\n",
      "Epoch 2/10\n",
      "126/126 [==============================] - 9s 73ms/step - loss: 0.0310 - accuracy: 0.9911 - val_loss: 0.0368 - val_accuracy: 0.9952\n",
      "Epoch 3/10\n",
      "126/126 [==============================] - 9s 74ms/step - loss: 0.0194 - accuracy: 0.9948 - val_loss: 0.0333 - val_accuracy: 0.9961\n",
      "Epoch 4/10\n",
      "126/126 [==============================] - 9s 75ms/step - loss: 0.0125 - accuracy: 0.9965 - val_loss: 0.0398 - val_accuracy: 0.9952\n",
      "Epoch 5/10\n",
      "126/126 [==============================] - 10s 76ms/step - loss: 0.0085 - accuracy: 0.9978 - val_loss: 0.0409 - val_accuracy: 0.9961\n",
      "Epoch 6/10\n",
      "126/126 [==============================] - 10s 77ms/step - loss: 0.0080 - accuracy: 0.9980 - val_loss: 0.0396 - val_accuracy: 0.9971\n",
      "Epoch 7/10\n",
      "126/126 [==============================] - 10s 77ms/step - loss: 0.0065 - accuracy: 0.9990 - val_loss: 0.0561 - val_accuracy: 0.9952\n",
      "Epoch 8/10\n",
      "126/126 [==============================] - 10s 77ms/step - loss: 0.0059 - accuracy: 0.9990 - val_loss: 0.0645 - val_accuracy: 0.9952\n",
      "Epoch 9/10\n",
      "126/126 [==============================] - 10s 78ms/step - loss: 0.0054 - accuracy: 0.9985 - val_loss: 0.0503 - val_accuracy: 0.9971\n",
      "Epoch 10/10\n",
      "126/126 [==============================] - 10s 78ms/step - loss: 0.0024 - accuracy: 0.9995 - val_loss: 0.0523 - val_accuracy: 0.9961\n"
     ]
    },
    {
     "data": {
      "text/plain": [
       "<tensorflow.python.keras.callbacks.History at 0x146788e50>"
      ]
     },
     "execution_count": 39,
     "metadata": {},
     "output_type": "execute_result"
    }
   ],
   "source": [
    "x, y = shuffle(x_train, y_train)\n",
    "model.fit(x, y, batch_size=32, epochs=10, validation_data=(x_val, y_val))"
   ]
  },
  {
   "cell_type": "markdown",
   "metadata": {},
   "source": [
    "#### training performance"
   ]
  },
  {
   "cell_type": "code",
   "execution_count": 40,
   "metadata": {},
   "outputs": [
    {
     "name": "stdout",
     "output_type": "stream",
     "text": [
      "126/126 [==============================] - 2s 13ms/step - loss: 0.0062 - accuracy: 0.9990\n"
     ]
    },
    {
     "data": {
      "text/plain": [
       "[0.006229473743587732, 0.999006450176239]"
      ]
     },
     "execution_count": 40,
     "metadata": {},
     "output_type": "execute_result"
    }
   ],
   "source": [
    "model.evaluate(x, y)"
   ]
  },
  {
   "cell_type": "code",
   "execution_count": 41,
   "metadata": {},
   "outputs": [],
   "source": [
    "y_head = model.predict(x)"
   ]
  },
  {
   "cell_type": "code",
   "execution_count": 42,
   "metadata": {},
   "outputs": [
    {
     "name": "stdout",
     "output_type": "stream",
     "text": [
      "              precision    recall  f1-score   support\n",
      "\n",
      "           0       1.00      1.00      1.00      1547\n",
      "           1       1.00      1.00      1.00      1810\n",
      "           2       1.00      1.00      1.00       669\n",
      "\n",
      "    accuracy                           1.00      4026\n",
      "   macro avg       1.00      1.00      1.00      4026\n",
      "weighted avg       1.00      1.00      1.00      4026\n",
      "\n"
     ]
    }
   ],
   "source": [
    "print(classification_report(y.argmax(axis=-1), y_head.argmax(axis=-1)))"
   ]
  },
  {
   "cell_type": "markdown",
   "metadata": {},
   "source": [
    "#### test performance"
   ]
  },
  {
   "cell_type": "code",
   "execution_count": 43,
   "metadata": {},
   "outputs": [
    {
     "name": "stdout",
     "output_type": "stream",
     "text": [
      "31/31 [==============================] - 0s 12ms/step - loss: 0.0412 - accuracy: 0.9875\n"
     ]
    },
    {
     "data": {
      "text/plain": [
       "[0.04120521619915962, 0.9875389337539673]"
      ]
     },
     "execution_count": 43,
     "metadata": {},
     "output_type": "execute_result"
    }
   ],
   "source": [
    "model.evaluate(x_test, y_test)"
   ]
  },
  {
   "cell_type": "code",
   "execution_count": 44,
   "metadata": {},
   "outputs": [],
   "source": [
    "y_head = model.predict(x_test)"
   ]
  },
  {
   "cell_type": "code",
   "execution_count": 45,
   "metadata": {},
   "outputs": [
    {
     "name": "stdout",
     "output_type": "stream",
     "text": [
      "              precision    recall  f1-score   support\n",
      "\n",
      "           0       1.00      1.00      1.00       403\n",
      "           1       0.99      0.97      0.98       387\n",
      "           2       0.95      0.99      0.97       173\n",
      "\n",
      "    accuracy                           0.99       963\n",
      "   macro avg       0.98      0.99      0.98       963\n",
      "weighted avg       0.99      0.99      0.99       963\n",
      "\n"
     ]
    }
   ],
   "source": [
    "print(classification_report(y_test.argmax(axis=-1), y_head.argmax(axis=-1)))"
   ]
  },
  {
   "cell_type": "code",
   "execution_count": null,
   "metadata": {},
   "outputs": [],
   "source": []
  }
 ],
 "metadata": {
  "kernelspec": {
   "display_name": "Python 3",
   "language": "python",
   "name": "python3"
  },
  "language_info": {
   "codemirror_mode": {
    "name": "ipython",
    "version": 3
   },
   "file_extension": ".py",
   "mimetype": "text/x-python",
   "name": "python",
   "nbconvert_exporter": "python",
   "pygments_lexer": "ipython3",
   "version": "3.8.2"
  }
 },
 "nbformat": 4,
 "nbformat_minor": 4
}

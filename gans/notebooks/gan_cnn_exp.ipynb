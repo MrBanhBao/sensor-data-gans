{
 "cells": [
  {
   "cell_type": "code",
   "execution_count": null,
   "metadata": {},
   "outputs": [],
   "source": [
    "cd ../.."
   ]
  },
  {
   "cell_type": "code",
   "execution_count": null,
   "metadata": {},
   "outputs": [],
   "source": [
    "import os\n",
    "import numpy as np\n",
    "import pandas as pd\n",
    "from numpy.random import randn\n",
    "import tensorflow as tf\n",
    "from tensorflow.keras.models import Sequential\n",
    "from tensorflow.keras.layers import Input, Dense, Conv1D, Conv1DTranspose, MaxPool1D, GlobalMaxPool1D, Flatten, Dropout, LeakyReLU, Reshape, BatchNormalization\n",
    "from tensorflow.keras.optimizers import Adam\n",
    "from sklearn.utils import shuffle\n",
    "from gans.utils import create_gan, train_gan\n",
    "from utils.windowing import windowing_dataframe, transform_windows_df\n",
    "from utils.preprocess import filter_by_activity_index, calc_consultant\n",
    "from utils.utils import check_dir_creation\n",
    "from utils.plotting import plot_n_heatmaps, plot_n_lineplots\n",
    "import seaborn as sns"
   ]
  },
  {
   "cell_type": "code",
   "execution_count": null,
   "metadata": {},
   "outputs": [],
   "source": [
    "def create_discriminator(input_shape, optimizer=Adam(learning_rate=0.0001, clipvalue=1.0, decay=1e-8)):\n",
    "    discriminator = Sequential()\n",
    "    discriminator.add(Conv1D(8, kernel_size=9, activation='relu', input_shape=input_shape))\n",
    "    discriminator.add(Flatten())\n",
    "    discriminator.add(Dense(1, activation='sigmoid'))\n",
    "\n",
    "    discriminator.compile(loss='binary_crossentropy', optimizer=optimizer, metrics=['accuracy'])\n",
    "    return discriminator"
   ]
  },
  {
   "cell_type": "code",
   "execution_count": null,
   "metadata": {},
   "outputs": [],
   "source": [
    "def create_generator(latent_dim, kernel_size, kernel_num=3, small=True):\n",
    "    if small:\n",
    "        generator = Sequential()\n",
    "        generator.add(Dense(125 * 3, kernel_initializer='he_uniform', input_shape=(latent_dim,)))\n",
    "        generator.add(LeakyReLU())\n",
    "        generator.add(BatchNormalization())\n",
    "\n",
    "        generator.add(Reshape((125, 3)))\n",
    "\n",
    "        generator.add(Conv1D(kernel_num, kernel_size=kernel_size, kernel_initializer='he_uniform', padding='same'))\n",
    "        generator.add(LeakyReLU())\n",
    "        generator.add(BatchNormalization())\n",
    "\n",
    "        generator.add(Conv1DTranspose(kernel_num, kernel_size=4, strides=2, padding='same'))\n",
    "        generator.add(LeakyReLU())\n",
    "        generator.add(BatchNormalization())\n",
    "\n",
    "        generator.add(Conv1D(3, kernel_size=kernel_size, padding='same', kernel_initializer='he_uniform', activation='linear'))\n",
    "    else:\n",
    "        generator = Sequential()\n",
    "        generator.add(Dense(125 * 3, kernel_initializer='he_uniform', input_shape=(latent_dim,)))\n",
    "        generator.add(LeakyReLU())\n",
    "        generator.add(BatchNormalization())\n",
    "        \n",
    "        generator.add(Reshape((125, 3)))\n",
    "\n",
    "        generator.add(Conv1D(kernel_num, kernel_size=kernel_size, kernel_initializer='he_uniform', padding='same'))\n",
    "        generator.add(LeakyReLU())\n",
    "        generator.add(BatchNormalization())\n",
    "\n",
    "        generator.add(Conv1D(kernel_num, kernel_size=kernel_size, kernel_initializer='he_uniform', padding='same'))#\n",
    "        generator.add(LeakyReLU())\n",
    "        generator.add(BatchNormalization())\n",
    "\n",
    "        generator.add(Conv1DTranspose(kernel_num, kernel_size=4, strides=2, padding='same'))\n",
    "        generator.add(LeakyReLU())\n",
    "        generator.add(BatchNormalization())\n",
    "\n",
    "        generator.add(Conv1D(kernel_num, kernel_size=kernel_size, kernel_initializer='he_uniform', padding='same'))\n",
    "        generator.add(LeakyReLU())\n",
    "        generator.add(BatchNormalization())\n",
    "\n",
    "        generator.add(Conv1D(kernel_num, kernel_size=kernel_size, kernel_initializer='he_uniform', padding='same'))\n",
    "        generator.add(LeakyReLU())\n",
    "        generator.add(BatchNormalization())\n",
    "\n",
    "        generator.add(Conv1D(kernel_num, kernel_size=kernel_size, padding='same', kernel_initializer='he_uniform', activation='linear'))\n",
    "        \n",
    "    #generator.summary()\n",
    "    return generator"
   ]
  },
  {
   "cell_type": "code",
   "execution_count": null,
   "metadata": {},
   "outputs": [],
   "source": [
    "act_id = 0\n",
    "\n",
    "latent_dim = 64\n",
    "kernel_num=3\n",
    "kernel_size=5\n",
    "small=True\n",
    "\n",
    "steps = 1000\n",
    "batch_size = 32\n",
    "\n",
    "num_gen = 5000\n",
    "add_sample_num = 1000"
   ]
  },
  {
   "cell_type": "code",
   "execution_count": null,
   "metadata": {},
   "outputs": [],
   "source": [
    "train_df = pd.read_hdf('./datasets/mydata/train_df.h5')\n",
    "val_df = pd.read_hdf('./datasets/mydata/val_df.h5')\n",
    "test_df = pd.read_hdf('./datasets/mydata/test_df.h5')"
   ]
  },
  {
   "cell_type": "code",
   "execution_count": null,
   "metadata": {},
   "outputs": [],
   "source": [
    "window_size = 5*50\n",
    "step_size = int(window_size/2)\n",
    "col_names = ['userAcceleration.x', 'userAcceleration.y', 'userAcceleration.z', 'userAcceleration.c']\n",
    "method ='sliding'"
   ]
  },
  {
   "cell_type": "code",
   "execution_count": null,
   "metadata": {},
   "outputs": [],
   "source": [
    "train_windowed_df = windowing_dataframe(train_df, window_size=window_size, step_or_sample_size=step_size, col_names=col_names, method=method)\n",
    "val_windowed_df = windowing_dataframe(val_df, window_size=window_size, step_or_sample_size=step_size, col_names=col_names, method=method)\n",
    "test_windowed_df = windowing_dataframe(test_df, window_size=window_size, step_or_sample_size=step_size, col_names=col_names, method=method)"
   ]
  },
  {
   "cell_type": "code",
   "execution_count": null,
   "metadata": {},
   "outputs": [],
   "source": [
    "input_cols = ['userAcceleration.x', 'userAcceleration.y', 'userAcceleration.z']\n",
    "x_train, y_train = transform_windows_df(train_windowed_df, input_cols=input_cols, one_hot_encode=False, as_channel=False)\n",
    "x_val, y_val = transform_windows_df(val_windowed_df, input_cols=input_cols, one_hot_encode=False, as_channel=False)\n",
    "x_test, y_test = transform_windows_df(test_windowed_df, input_cols=input_cols, one_hot_encode=False, as_channel=False)"
   ]
  },
  {
   "cell_type": "code",
   "execution_count": null,
   "metadata": {},
   "outputs": [],
   "source": [
    "x_train_activity, _ = filter_by_activity_index(x=x_train, y=y_train, activity_idx=act_id)"
   ]
  },
  {
   "cell_type": "code",
   "execution_count": null,
   "metadata": {},
   "outputs": [],
   "source": [
    "from sklearn.svm import SVC\n",
    "from sklearn.metrics import classification_report, confusion_matrix, accuracy_score\n",
    "labels=[\"standing\", \"walking\", \"jogging\"]"
   ]
  },
  {
   "cell_type": "code",
   "execution_count": null,
   "metadata": {},
   "outputs": [],
   "source": [
    "input_cols = ['userAcceleration.c']\n",
    "x_train_clf, y_train_clf = transform_windows_df(train_windowed_df, input_cols=input_cols, one_hot_encode=False, as_channel=False)\n",
    "x_val_clf, y_val_clf = transform_windows_df(val_windowed_df, input_cols=input_cols, one_hot_encode=False, as_channel=False)\n",
    "x_test_clf, y_test_clf = transform_windows_df(test_windowed_df, input_cols=input_cols, one_hot_encode=False, as_channel=False)"
   ]
  },
  {
   "cell_type": "code",
   "execution_count": null,
   "metadata": {},
   "outputs": [],
   "source": [
    "x_train_clf = x_train_clf.reshape((len(x_train_clf), window_size))\n",
    "x_val_clf = x_val_clf.reshape((len(x_val_clf), window_size))\n",
    "x_test_clf = x_test_clf.reshape((len(x_test_clf), window_size))"
   ]
  },
  {
   "cell_type": "code",
   "execution_count": null,
   "metadata": {},
   "outputs": [],
   "source": [
    "svm_clf = SVC()\n",
    "svm_clf.fit(x_train_clf, y_train_clf)"
   ]
  },
  {
   "cell_type": "markdown",
   "metadata": {},
   "source": [
    "#### train performance"
   ]
  },
  {
   "cell_type": "code",
   "execution_count": null,
   "metadata": {},
   "outputs": [],
   "source": [
    "y_train_head = svm_clf.predict(x_train_clf)\n",
    "print(classification_report(y_train_clf, y_train_head, target_names=labels))"
   ]
  },
  {
   "cell_type": "code",
   "execution_count": null,
   "metadata": {},
   "outputs": [],
   "source": [
    "cm = confusion_matrix(y_train_clf, y_train_head)\n",
    "cm_df = pd.DataFrame(cm, index = labels,\n",
    "                  columns = labels)\n",
    "sns.heatmap(cm_df, annot=True, cmap='YlGnBu', fmt='g')"
   ]
  },
  {
   "cell_type": "code",
   "execution_count": null,
   "metadata": {},
   "outputs": [],
   "source": [
    "orig_train_acc = accuracy_score(y_train_clf, y_train_head)\n",
    "orig_train_acc"
   ]
  },
  {
   "cell_type": "markdown",
   "metadata": {},
   "source": [
    "#### test performance"
   ]
  },
  {
   "cell_type": "code",
   "execution_count": null,
   "metadata": {},
   "outputs": [],
   "source": [
    "y_test_head = svm_clf.predict(x_test_clf)"
   ]
  },
  {
   "cell_type": "code",
   "execution_count": null,
   "metadata": {},
   "outputs": [],
   "source": [
    "print(classification_report(y_test_clf, y_test_head, target_names=labels))"
   ]
  },
  {
   "cell_type": "code",
   "execution_count": null,
   "metadata": {},
   "outputs": [],
   "source": [
    "cm = confusion_matrix(y_test, y_test_head)\n",
    "cm_df = pd.DataFrame(cm, index = labels,\n",
    "                  columns = labels)\n",
    "sns.heatmap(cm_df, annot=True, cmap='YlGnBu', fmt='g')"
   ]
  },
  {
   "cell_type": "code",
   "execution_count": null,
   "metadata": {},
   "outputs": [],
   "source": [
    "orig_test_acc = accuracy_score(y_test_clf, y_test_head)\n",
    "orig_test_acc"
   ]
  },
  {
   "cell_type": "code",
   "execution_count": null,
   "metadata": {},
   "outputs": [],
   "source": [
    "### GAN"
   ]
  },
  {
   "cell_type": "code",
   "execution_count": null,
   "metadata": {},
   "outputs": [],
   "source": [
    "input_shape = x_train[0].shape\n",
    "discriminator = create_discriminator(input_shape);\n",
    "generator = create_generator(latent_dim, kernel_num=kernel_num, kernel_size=kernel_size, small=small)\n",
    "gan = create_gan(generator_model=generator, discriminator_model=discriminator)"
   ]
  },
  {
   "cell_type": "code",
   "execution_count": null,
   "metadata": {},
   "outputs": [],
   "source": [
    "train_gan(generator, discriminator, gan, x_train_activity, steps)"
   ]
  },
  {
   "cell_type": "code",
   "execution_count": null,
   "metadata": {},
   "outputs": [],
   "source": [
    "## eval"
   ]
  },
  {
   "cell_type": "code",
   "execution_count": null,
   "metadata": {},
   "outputs": [],
   "source": [
    "random_latent_vectors = np.random.normal(size=(num_gen, latent_dim))\n",
    "generated_sensor_data = generator.predict(random_latent_vectors)"
   ]
  },
  {
   "cell_type": "code",
   "execution_count": null,
   "metadata": {},
   "outputs": [],
   "source": [
    "gen_df = pd.DataFrame(np.array([ts.transpose() for ts in generated_sensor_data]).tolist(), columns= ['userAcceleration.x', 'userAcceleration.y', 'userAcceleration.z'])\n",
    "gen_df['userAcceleration.c'] = calc_consultant(gen_df)\n",
    "gen_df['act'] = act_id"
   ]
  },
  {
   "cell_type": "code",
   "execution_count": null,
   "metadata": {},
   "outputs": [],
   "source": [
    "gen_windowed_df = windowing_dataframe(gen_df, window_size=window_size, step_or_sample_size=step_size, col_names=col_names, method=method)\n",
    "    \n",
    "input_cols = ['userAcceleration.c']\n",
    "x_gen, y_gen = transform_windows_df(gen_windowed_df, input_cols=input_cols, one_hot_encode=False, as_channel=False)\n",
    "x_gen = x_gen.reshape((len(x_gen), window_size))\n",
    "\n",
    "x_train_gen = np.concatenate([x_train_clf, x_gen[:add_sample_num]])\n",
    "y_train_gen = np.concatenate([y_train_clf, y_gen[:add_sample_num]])"
   ]
  },
  {
   "cell_type": "code",
   "execution_count": null,
   "metadata": {},
   "outputs": [],
   "source": [
    "svm_clf = SVC()\n",
    "svm_clf.fit(x_train_gen, y_train_gen)\n",
    "    \n",
    "y_train_head = svm_clf.predict(x_train_clf)\n",
    "train_acc = accuracy_score(y_train_clf, y_train_head)\n",
    "    \n",
    "y_test_head = svm_clf.predict(x_test_clf)\n",
    "test_acc = accuracy_score(y_test_clf, y_test_head)"
   ]
  },
  {
   "cell_type": "code",
   "execution_count": null,
   "metadata": {},
   "outputs": [],
   "source": [
    "print('Gen Train acc:', train_acc, 'vs.', orig_train_acc, ':Orig Train Acc')\n",
    "print('Gen Test acc:', test_acc, 'vs.', orig_test_acc, ':Orig Test Acc')"
   ]
  },
  {
   "cell_type": "code",
   "execution_count": null,
   "metadata": {},
   "outputs": [],
   "source": [
    "plot_n_heatmaps(x_train_activity, generated_sensor_data, n=10)"
   ]
  },
  {
   "cell_type": "code",
   "execution_count": null,
   "metadata": {},
   "outputs": [],
   "source": [
    "plot_n_lineplots(x_train_activity, generated_sensor_data, n=10)"
   ]
  },
  {
   "cell_type": "code",
   "execution_count": null,
   "metadata": {},
   "outputs": [],
   "source": []
  },
  {
   "cell_type": "code",
   "execution_count": null,
   "metadata": {},
   "outputs": [],
   "source": [
    "for small in [True, False]:\n",
    "    for act_id in range(0,3):\n",
    "        for latent_dim in [32, 64, 128, 256]:\n",
    "            for kernel_size in [3, 5, 7, 9, 11, 13, 15]:\n",
    "                x_train_activity, _ = filter_by_activity_index(x=x_train, y=y_train, activity_idx=act_id)\n",
    "                \n",
    "                input_shape = x_train[0].shape\n",
    "                discriminator = create_discriminator(input_shape);\n",
    "                generator = create_generator(latent_dim, kernel_num=kernel_num, kernel_size=kernel_size, small=small)\n",
    "                gan = create_gan(generator_model=generator, discriminator_model=discriminator)\n",
    "\n",
    "                train_gan(generator, discriminator, gan, x_train_activity, steps)\n",
    "                random_latent_vectors = np.random.normal(size=(num_gen, latent_dim))\n",
    "                generated_sensor_data = generator.predict(random_latent_vectors)\n",
    "\n",
    "                gen_df = pd.DataFrame(np.array([ts.transpose() for ts in generated_sensor_data]).tolist(), columns= ['userAcceleration.x', 'userAcceleration.y', 'userAcceleration.z'])\n",
    "                gen_df['userAcceleration.c'] = calc_consultant(gen_df)\n",
    "                gen_df['act'] = act_id\n",
    "\n",
    "                gen_windowed_df = windowing_dataframe(gen_df, window_size=window_size, step_or_sample_size=step_size, col_names=col_names, method=method)\n",
    "\n",
    "                input_cols = ['userAcceleration.c']\n",
    "                x_gen, y_gen = transform_windows_df(gen_windowed_df, input_cols=input_cols, one_hot_encode=False, as_channel=False)\n",
    "                x_gen = x_gen.reshape((len(x_gen), window_size))\n",
    "\n",
    "                x_train_gen = np.concatenate([x_train_clf, x_gen[:add_sample_num]])\n",
    "                y_train_gen = np.concatenate([y_train_clf, y_gen[:add_sample_num]])\n",
    "\n",
    "                svm_clf = SVC()\n",
    "                svm_clf.fit(x_train_gen, y_train_gen)\n",
    "\n",
    "                y_train_head = svm_clf.predict(x_train_clf)\n",
    "                train_acc = accuracy_score(y_train_clf, y_train_head)\n",
    "\n",
    "                y_test_head = svm_clf.predict(x_test_clf)\n",
    "                test_acc = accuracy_score(y_test_clf, y_test_head)\n",
    "\n",
    "                plot_n_heatmaps(x_train_activity, generated_sensor_data, n=10, save_dir='out/cnn_steps-{}_latentdim-{}_kernelnum-{}_kernelsize-{}_small-{}_actId-{}'.format(steps, latent_dim, kernel_num, kernel_size, small, act_id))\n",
    "                plot_n_lineplots(x_train_activity, generated_sensor_data, n=10, save_dir='out/cnn_steps-{}_latentdim-{}_kernelnum-{}_kernelsize-{}_small-{}_actId-{}'.format(steps, latent_dim, kernel_num, kernel_size, small, act_id))\n",
    "\n",
    "                file = open('out/cnn_steps-{}_latentdim-{}_kernelnum-{}_kernelsize-{}_small-{}_actId-{}/acc.txt'.format(steps, latent_dim, kernel_num, kernel_size, small, act_id), 'w+')\n",
    "                file.write(f'Gen Train acc: {train_acc} vs. {orig_train_acc} :Orig Train Acc \\n')\n",
    "                file.write(f'Gen Test acc: {test_acc} vs. {orig_test_acc} :Orig Test Acc')\n",
    "                file.close()"
   ]
  },
  {
   "cell_type": "code",
   "execution_count": null,
   "metadata": {},
   "outputs": [],
   "source": [
    "#labels = np.concatenate([smooth_labels(np.zeros((batch_size, 1)), 0.0, 0.3), smooth_labels(np.ones((batch_size, 1)), -0.3, 0.3)])\n",
    "#labels = np.concatenate([np.zeros((batch_size, 1)), np.ones((batch_size, 1))])\n",
    "\n",
    "def smooth_labels(labels, lower, upper, round_decimel=1, random_state=None):\n",
    "    n_samples = len(labels)\n",
    "    if random_state:\n",
    "        np.random.seed(random_state)\n",
    "    return labels + np.round(np.random.uniform(lower, upper, n_samples), round_decimel)[:, None]"
   ]
  }
 ],
 "metadata": {
  "kernelspec": {
   "display_name": "Python 3",
   "language": "python",
   "name": "python3"
  },
  "language_info": {
   "codemirror_mode": {
    "name": "ipython",
    "version": 3
   },
   "file_extension": ".py",
   "mimetype": "text/x-python",
   "name": "python",
   "nbconvert_exporter": "python",
   "pygments_lexer": "ipython3",
   "version": "3.8.2"
  }
 },
 "nbformat": 4,
 "nbformat_minor": 4
}

{
 "cells": [
  {
   "cell_type": "markdown",
   "metadata": {},
   "source": [
    "# Example GAN training\n",
    "Tutorial which shows how to start a training"
   ]
  },
  {
   "cell_type": "markdown",
   "metadata": {},
   "source": [
    "first run 'cd ../..' to be in the root directory so that you can import custom packages via notebook"
   ]
  },
  {
   "cell_type": "code",
   "execution_count": 1,
   "metadata": {},
   "outputs": [
    {
     "name": "stdout",
     "output_type": "stream",
     "text": [
      "/Users/hao/workspace/hpi_de/4th_Semester/Applied Machine Learning/sensor-data-gans\n"
     ]
    }
   ],
   "source": [
    "cd ../.."
   ]
  },
  {
   "cell_type": "markdown",
   "metadata": {},
   "source": [
    "## import"
   ]
  },
  {
   "cell_type": "code",
   "execution_count": 2,
   "metadata": {},
   "outputs": [],
   "source": [
    "from gans.gan_trainer import GanTrainer\n",
    "\n",
    "from datetime import datetime\n",
    "from numpy.random import randn\n",
    "\n",
    "import tensorflow as tf\n",
    "from tensorflow.keras.models import Sequential\n",
    "from tensorflow.keras.layers import Input, Dense, Conv1D, Flatten, Reshape, Conv1DTranspose\n",
    "from tensorflow.keras.optimizers import Adam"
   ]
  },
  {
   "cell_type": "markdown",
   "metadata": {},
   "source": [
    "## Initialize GanTrainer"
   ]
  },
  {
   "cell_type": "code",
   "execution_count": 3,
   "metadata": {},
   "outputs": [],
   "source": [
    "out_dir = 'test'\n",
    "gan_trainer = GanTrainer(out_dir=out_dir)"
   ]
  },
  {
   "cell_type": "markdown",
   "metadata": {},
   "source": [
    "## Load and transform Data"
   ]
  },
  {
   "cell_type": "code",
   "execution_count": 4,
   "metadata": {},
   "outputs": [],
   "source": [
    "# data parameters\n",
    "train_path = './datasets/mydata/train_df.h5'\n",
    "val_path = './datasets/mydata/val_df.h5'\n",
    "test_path = './datasets/mydata/test_df.h5'\n",
    "\n",
    "# what action to generate\n",
    "act_id = 0\n",
    "\n",
    "# preprocessing parameters\n",
    "window_size = 5*50\n",
    "step_size = int(window_size/2)\n",
    "method ='sliding'\n",
    "col_names = ['userAcceleration.x', 'userAcceleration.y', 'userAcceleration.z', 'userAcceleration.c']\n",
    "input_cols_train=['userAcceleration.x', 'userAcceleration.y', 'userAcceleration.z']\n",
    "input_cols_eval=['userAcceleration.c']"
   ]
  },
  {
   "cell_type": "code",
   "execution_count": 5,
   "metadata": {},
   "outputs": [
    {
     "name": "stdout",
     "output_type": "stream",
     "text": [
      "Load Data...\n",
      "Transform Data...\n",
      "Calculate origin performance...\n",
      "Done!\n"
     ]
    }
   ],
   "source": [
    "gan_trainer.init_data(train_path=train_path,\n",
    "                      val_path=val_path,\n",
    "                      test_path=test_path,\n",
    "                      act_id=act_id,\n",
    "                      window_size=window_size,\n",
    "                      step_size=step_size,\n",
    "                      method=method,\n",
    "                      col_names=col_names,\n",
    "                      input_cols_train=input_cols_train,\n",
    "                      input_cols_eval=input_cols_eval\n",
    "                     )"
   ]
  },
  {
   "cell_type": "markdown",
   "metadata": {},
   "source": [
    "## create GAN"
   ]
  },
  {
   "cell_type": "markdown",
   "metadata": {},
   "source": [
    "### create discriminator"
   ]
  },
  {
   "cell_type": "code",
   "execution_count": 6,
   "metadata": {},
   "outputs": [],
   "source": [
    "input_shape=(250, 3)\n",
    "\n",
    "discriminator = Sequential()\n",
    "discriminator.add(Conv1D(8, kernel_size=9, activation='relu', input_shape=input_shape))\n",
    "discriminator.add(Flatten())\n",
    "discriminator.add(Dense(1, activation='sigmoid'))\n",
    "\n",
    "discriminator.compile(loss='binary_crossentropy', optimizer=Adam(), metrics=['accuracy'])"
   ]
  },
  {
   "cell_type": "code",
   "execution_count": 7,
   "metadata": {},
   "outputs": [
    {
     "name": "stdout",
     "output_type": "stream",
     "text": [
      "Model: \"sequential\"\n",
      "_________________________________________________________________\n",
      "Layer (type)                 Output Shape              Param #   \n",
      "=================================================================\n",
      "conv1d (Conv1D)              (None, 242, 8)            224       \n",
      "_________________________________________________________________\n",
      "flatten (Flatten)            (None, 1936)              0         \n",
      "_________________________________________________________________\n",
      "dense (Dense)                (None, 1)                 1937      \n",
      "=================================================================\n",
      "Total params: 2,161\n",
      "Trainable params: 2,161\n",
      "Non-trainable params: 0\n",
      "_________________________________________________________________\n"
     ]
    }
   ],
   "source": [
    "discriminator.summary()"
   ]
  },
  {
   "cell_type": "markdown",
   "metadata": {},
   "source": [
    "### create generator"
   ]
  },
  {
   "cell_type": "code",
   "execution_count": 8,
   "metadata": {},
   "outputs": [],
   "source": [
    "latent_dim=64\n",
    "\n",
    "generator = Sequential()\n",
    "generator.add(Dense(125 * 3, kernel_initializer='he_uniform', input_shape=(latent_dim,)))\n",
    "generator.add(Reshape((125, 3)))\n",
    "generator.add(Conv1D(3, kernel_size=5, kernel_initializer='he_uniform', padding='same'))\n",
    "generator.add(Conv1DTranspose(3, kernel_size=4, strides=2, padding='same'))\n",
    "generator.add(Conv1D(3, kernel_size=5, padding='same', kernel_initializer='he_uniform', activation='linear'))"
   ]
  },
  {
   "cell_type": "code",
   "execution_count": 9,
   "metadata": {},
   "outputs": [
    {
     "name": "stdout",
     "output_type": "stream",
     "text": [
      "Model: \"sequential_1\"\n",
      "_________________________________________________________________\n",
      "Layer (type)                 Output Shape              Param #   \n",
      "=================================================================\n",
      "dense_1 (Dense)              (None, 375)               24375     \n",
      "_________________________________________________________________\n",
      "reshape (Reshape)            (None, 125, 3)            0         \n",
      "_________________________________________________________________\n",
      "conv1d_1 (Conv1D)            (None, 125, 3)            48        \n",
      "_________________________________________________________________\n",
      "conv1d_transpose (Conv1DTran (None, 250, 3)            39        \n",
      "_________________________________________________________________\n",
      "conv1d_2 (Conv1D)            (None, 250, 3)            48        \n",
      "=================================================================\n",
      "Total params: 24,510\n",
      "Trainable params: 24,510\n",
      "Non-trainable params: 0\n",
      "_________________________________________________________________\n"
     ]
    }
   ],
   "source": [
    "generator.summary()"
   ]
  },
  {
   "cell_type": "markdown",
   "metadata": {},
   "source": [
    "### combine generator and discriminator to GAN"
   ]
  },
  {
   "cell_type": "code",
   "execution_count": 10,
   "metadata": {},
   "outputs": [],
   "source": [
    "gan_trainer.create_gan(generator=generator, discriminator=discriminator)"
   ]
  },
  {
   "cell_type": "markdown",
   "metadata": {},
   "source": [
    "## Training"
   ]
  },
  {
   "cell_type": "code",
   "execution_count": 11,
   "metadata": {},
   "outputs": [],
   "source": [
    "# training parameters\n",
    "steps = 100\n",
    "batch_size = 32\n",
    "eval_step = 10\n",
    "random = False\n",
    "label_smoothing = False"
   ]
  },
  {
   "cell_type": "code",
   "execution_count": 12,
   "metadata": {},
   "outputs": [
    {
     "name": "stdout",
     "output_type": "stream",
     "text": [
      "discriminator loss: [1.0480483770370483, 0.484375]\n",
      "adversarial loss: 1.090978980064392\n",
      "\n",
      "\n",
      "discriminator loss: [0.360035240650177, 0.5]\n",
      "adversarial loss: 6.771139144897461\n",
      "\n",
      "\n",
      "discriminator loss: [0.3945339620113373, 0.53125]\n",
      "adversarial loss: 7.51900577545166\n",
      "\n",
      "\n",
      "discriminator loss: [0.3444904088973999, 0.875]\n",
      "adversarial loss: 6.824872016906738\n",
      "\n",
      "\n",
      "discriminator loss: [0.346714049577713, 0.875]\n",
      "adversarial loss: 5.413257598876953\n",
      "\n",
      "\n",
      "discriminator loss: [0.3426848351955414, 1.0]\n",
      "adversarial loss: 4.9119462966918945\n",
      "\n",
      "\n",
      "Train f1-score for act_id  0 improved from  0.0 to  0.9333333333333333\n",
      "Validation f1-score for act_id  0 improved from  0.0 to  0.8523290386521308\n",
      "discriminator loss: [0.3472014367580414, 1.0]\n",
      "adversarial loss: 4.131976127624512\n",
      "\n",
      "\n",
      "Train f1-score for act_id  0 improved from  0.9333333333333333 to  0.9596774193548387\n",
      "Validation f1-score for act_id  0 improved from  0.8523290386521308 to  0.9851088201603665\n",
      "discriminator loss: [0.34426814317703247, 1.0]\n",
      "adversarial loss: 3.907480478286743\n",
      "\n",
      "\n",
      "discriminator loss: [0.34040367603302, 1.0]\n",
      "adversarial loss: 4.010256290435791\n",
      "\n",
      "\n",
      "discriminator loss: [0.33760252594947815, 1.0]\n",
      "adversarial loss: 4.147233009338379\n",
      "\n",
      "\n"
     ]
    }
   ],
   "source": [
    "gan_trainer.train_gan(steps=steps, \n",
    "                    batch_size=batch_size,\n",
    "                    eval_step=eval_step,\n",
    "                    random=random, \n",
    "                    label_smoothing=label_smoothing)"
   ]
  },
  {
   "cell_type": "code",
   "execution_count": null,
   "metadata": {},
   "outputs": [],
   "source": []
  }
 ],
 "metadata": {
  "kernelspec": {
   "display_name": "Python 3",
   "language": "python",
   "name": "python3"
  },
  "language_info": {
   "codemirror_mode": {
    "name": "ipython",
    "version": 3
   },
   "file_extension": ".py",
   "mimetype": "text/x-python",
   "name": "python",
   "nbconvert_exporter": "python",
   "pygments_lexer": "ipython3",
   "version": "3.8.2"
  }
 },
 "nbformat": 4,
 "nbformat_minor": 4
}

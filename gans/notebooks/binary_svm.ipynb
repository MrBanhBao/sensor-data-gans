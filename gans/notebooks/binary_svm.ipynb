{
 "cells": [
  {
   "cell_type": "code",
   "execution_count": 1,
   "metadata": {},
   "outputs": [
    {
     "name": "stdout",
     "output_type": "stream",
     "text": [
      "/Users/hao/workspace/hpi_de/4th_Semester/Applied Machine Learning/sensor-data-gans\n"
     ]
    }
   ],
   "source": [
    "cd ../.."
   ]
  },
  {
   "cell_type": "code",
   "execution_count": 2,
   "metadata": {},
   "outputs": [],
   "source": [
    "import os\n",
    "import numpy as np\n",
    "import pandas as pd\n",
    "from numpy.random import randn\n",
    "import tensorflow as tf\n",
    "from tensorflow.keras.models import Sequential\n",
    "from tensorflow.keras.layers import Input, Dense, Conv1D, Conv1DTranspose, MaxPool1D, GlobalMaxPool1D, Flatten, Dropout, LeakyReLU, Reshape, BatchNormalization\n",
    "from tensorflow.keras.optimizers import Adam\n",
    "from sklearn.utils import shuffle\n",
    "from gans.utils import create_gan\n",
    "from utils.windowing import windowing_dataframe, transform_windows_df\n",
    "from utils.preprocess import filter_by_activity_index, calc_consultant\n",
    "from utils.utils import check_dir_creation\n",
    "from utils.plotting import plot_n_heatmaps, plot_n_lineplots\n",
    "import seaborn as sns\n",
    "import matplotlib.pyplot as plt"
   ]
  },
  {
   "cell_type": "code",
   "execution_count": 3,
   "metadata": {},
   "outputs": [],
   "source": [
    "def create_discriminator(input_shape):\n",
    "    discriminator = Sequential()\n",
    "    discriminator.add(Conv1D(8, kernel_size=9, activation='relu', input_shape=input_shape))\n",
    "    discriminator.add(Flatten())\n",
    "    discriminator.add(Dense(1, activation='sigmoid'))\n",
    "    discriminator.summary()\n",
    "    discriminator.compile(loss='binary_crossentropy', optimizer=Adam(learning_rate=0.0001, clipvalue=1.0, decay=1e-8), metrics=['accuracy'])\n",
    "    return discriminator"
   ]
  },
  {
   "cell_type": "code",
   "execution_count": 4,
   "metadata": {},
   "outputs": [],
   "source": [
    "def create_generator(latent_dim, kernel_num, kernel_size, small=True):\n",
    "    if small:\n",
    "        generator = Sequential()\n",
    "        generator.add(Dense(125 * 3, kernel_initializer='he_uniform', input_shape=(latent_dim,)))\n",
    "        generator.add(LeakyReLU())\n",
    "        generator.add(Reshape((125, 3)))\n",
    "\n",
    "        generator.add(Conv1D(kernel_num, kernel_size=kernel_size, kernel_initializer='he_uniform', padding='same'))\n",
    "        generator.add(LeakyReLU())\n",
    "\n",
    "        generator.add(Conv1DTranspose(kernel_num, kernel_size=4, strides=2, padding='same'))\n",
    "        generator.add(LeakyReLU())\n",
    "\n",
    "        generator.add(Conv1D(3, kernel_size=kernel_size, padding='same', kernel_initializer='he_uniform', activation='linear'))\n",
    "    else:\n",
    "        generator = Sequential()\n",
    "        generator.add(Dense(125 * 3, kernel_initializer='he_uniform', input_shape=(latent_dim,)))\n",
    "        generator.add(LeakyReLU())\n",
    "        generator.add(Reshape((125, 3)))\n",
    "\n",
    "        generator.add(Conv1D(kernel_num, kernel_size=kernel_size, kernel_initializer='he_uniform', padding='same'))\n",
    "        generator.add(LeakyReLU())\n",
    "\n",
    "        generator.add(Conv1D(kernel_num, kernel_size=5, kernel_initializer='he_uniform', padding='same'))#\n",
    "        generator.add(LeakyReLU()) #\n",
    "\n",
    "        generator.add(Conv1DTranspose(kernel_num, kernel_size=4, strides=2, padding='same'))\n",
    "        generator.add(LeakyReLU())\n",
    "\n",
    "        generator.add(Conv1D(kernel_num, kernel_size=kernel_size, kernel_initializer='he_uniform', padding='same'))\n",
    "        generator.add(LeakyReLU()) #\n",
    "\n",
    "        generator.add(Conv1D(kernel_num, kernel_size=kernel_size, kernel_initializer='he_uniform', padding='same'))\n",
    "        generator.add(LeakyReLU()) #\n",
    "\n",
    "        generator.add(Conv1D(kernel_num, kernel_size=kernel_size, padding='same', kernel_initializer='he_uniform', activation='linear'))\n",
    "        \n",
    "    #generator.summary()\n",
    "    return generator"
   ]
  },
  {
   "cell_type": "code",
   "execution_count": 5,
   "metadata": {},
   "outputs": [],
   "source": [
    "def train_gan(generator, discriminator, gan, x_train_activity, steps, random=False):\n",
    "    start = 0\n",
    "    for step in range(steps):\n",
    "        random_latent_vectors = np.random.normal(size=(batch_size, latent_dim))\n",
    "\n",
    "        generated_sensor_data = generator.predict(random_latent_vectors)\n",
    "\n",
    "        if random:\n",
    "            index = np.random.choice(x_train_activity.shape[0], batch_size, replace=False)\n",
    "            real_sensor_data = x_train_activity[index]\n",
    "        else:\n",
    "            stop = start + batch_size\n",
    "            real_sensor_data = x_train_activity[start:stop]\n",
    "            start += batch_size\n",
    "\n",
    "        combined_sensor_data = np.concatenate([generated_sensor_data, real_sensor_data])\n",
    "        labels = np.concatenate([np.zeros((batch_size, 1)), np.ones((batch_size, 1))])\n",
    "\n",
    "        d_loss = discriminator.train_on_batch(combined_sensor_data, labels)\n",
    "\n",
    "        misleading_targets = np.ones((batch_size, 1))\n",
    "\n",
    "        a_loss = gan.train_on_batch(random_latent_vectors, misleading_targets)\n",
    "\n",
    "        if start > len(x_train_activity) - batch_size:\n",
    "            start = 0\n",
    "\n",
    "        if step % 100 == 0:\n",
    "            print('discriminator loss:', d_loss)\n",
    "            print('adversarial loss:', a_loss)"
   ]
  },
  {
   "cell_type": "code",
   "execution_count": 6,
   "metadata": {},
   "outputs": [],
   "source": [
    "train_df = pd.read_hdf('./datasets/mydata/train_df.h5')\n",
    "val_df = pd.read_hdf('./datasets/mydata/val_df.h5')\n",
    "test_df = pd.read_hdf('./datasets/mydata/test_df.h5')"
   ]
  },
  {
   "cell_type": "code",
   "execution_count": 7,
   "metadata": {},
   "outputs": [],
   "source": [
    "window_size = 5*50\n",
    "step_size = int(window_size/2)\n",
    "col_names = ['userAcceleration.x', 'userAcceleration.y', 'userAcceleration.z', 'userAcceleration.c']\n",
    "method ='sliding'"
   ]
  },
  {
   "cell_type": "code",
   "execution_count": 8,
   "metadata": {},
   "outputs": [],
   "source": [
    "train_windowed_df = windowing_dataframe(train_df, window_size=window_size, step_or_sample_size=step_size, col_names=col_names, method=method)\n",
    "val_windowed_df = windowing_dataframe(val_df, window_size=window_size, step_or_sample_size=step_size, col_names=col_names, method=method)\n",
    "test_windowed_df = windowing_dataframe(test_df, window_size=window_size, step_or_sample_size=step_size, col_names=col_names, method=method)"
   ]
  },
  {
   "cell_type": "code",
   "execution_count": 9,
   "metadata": {},
   "outputs": [],
   "source": [
    "input_cols = ['userAcceleration.x', 'userAcceleration.y', 'userAcceleration.z']\n",
    "x_train, y_train = transform_windows_df(train_windowed_df, input_cols=input_cols, one_hot_encode=False, as_channel=False)\n",
    "x_val, y_val = transform_windows_df(val_windowed_df, input_cols=input_cols, one_hot_encode=False, as_channel=False)\n",
    "x_test, y_test = transform_windows_df(test_windowed_df, input_cols=input_cols, one_hot_encode=False, as_channel=False)"
   ]
  },
  {
   "cell_type": "code",
   "execution_count": 10,
   "metadata": {},
   "outputs": [],
   "source": [
    "x_train_activity, _ = filter_by_activity_index(x=x_train, y=y_train, activity_idx=0)"
   ]
  },
  {
   "cell_type": "code",
   "execution_count": 11,
   "metadata": {},
   "outputs": [],
   "source": [
    "### SVM"
   ]
  },
  {
   "cell_type": "code",
   "execution_count": 116,
   "metadata": {},
   "outputs": [],
   "source": [
    "from sklearn.svm import SVC\n",
    "from sklearn.metrics import classification_report, confusion_matrix, accuracy_score\n",
    "labels=[\"standing\", \"not-standind\"]"
   ]
  },
  {
   "cell_type": "code",
   "execution_count": 117,
   "metadata": {},
   "outputs": [],
   "source": [
    "input_cols = ['userAcceleration.c']\n",
    "x_train_clf, y_train_clf = transform_windows_df(train_windowed_df, input_cols=input_cols, one_hot_encode=False, as_channel=False)\n",
    "x_val_clf, y_val_clf = transform_windows_df(val_windowed_df, input_cols=input_cols, one_hot_encode=False, as_channel=False)\n",
    "x_test_clf, y_test_clf = transform_windows_df(test_windowed_df, input_cols=input_cols, one_hot_encode=False, as_channel=False)"
   ]
  },
  {
   "cell_type": "code",
   "execution_count": 118,
   "metadata": {},
   "outputs": [],
   "source": [
    "x_train_clf = x_train_clf.reshape((len(x_train_clf), window_size))\n",
    "x_val_clf = x_val_clf.reshape((len(x_val_clf), window_size))\n",
    "x_test_clf = x_test_clf.reshape((len(x_test_clf), window_size))"
   ]
  },
  {
   "cell_type": "code",
   "execution_count": 119,
   "metadata": {},
   "outputs": [],
   "source": [
    "x_train_standing_clf, _ = filter_by_activity_index(x=x_train_clf, y=y_train_clf, activity_idx=0)\n",
    "x_train_walking_clf, _ = filter_by_activity_index(x=x_train_clf, y=y_train_clf, activity_idx=1)\n",
    "x_train_jogging_clf, _ = filter_by_activity_index(x=x_train_clf, y=y_train_clf, activity_idx=2)"
   ]
  },
  {
   "cell_type": "code",
   "execution_count": 120,
   "metadata": {},
   "outputs": [
    {
     "data": {
      "text/plain": [
       "773"
      ]
     },
     "execution_count": 120,
     "metadata": {},
     "output_type": "execute_result"
    }
   ],
   "source": [
    "samples = int(len(x_train_standing_clf)/2)\n",
    "samples"
   ]
  },
  {
   "cell_type": "code",
   "execution_count": 121,
   "metadata": {},
   "outputs": [],
   "source": [
    "x_train_clf = np.concatenate([x_train_standing_clf, x_train_walking_clf[:samples], x_train_jogging_clf[:samples]])"
   ]
  },
  {
   "cell_type": "code",
   "execution_count": 122,
   "metadata": {},
   "outputs": [],
   "source": [
    "y_train_clf = np.concatenate([np.ones(len(x_train_standing_clf)), np.zeros(len(x_train_walking_clf[:samples])), np.zeros(len(x_train_jogging_clf[:samples]))])"
   ]
  },
  {
   "cell_type": "code",
   "execution_count": null,
   "metadata": {},
   "outputs": [],
   "source": []
  },
  {
   "cell_type": "code",
   "execution_count": null,
   "metadata": {},
   "outputs": [],
   "source": []
  },
  {
   "cell_type": "code",
   "execution_count": null,
   "metadata": {},
   "outputs": [],
   "source": []
  },
  {
   "cell_type": "code",
   "execution_count": 123,
   "metadata": {},
   "outputs": [
    {
     "data": {
      "text/plain": [
       "SVC()"
      ]
     },
     "execution_count": 123,
     "metadata": {},
     "output_type": "execute_result"
    }
   ],
   "source": [
    "svm_clf = SVC()\n",
    "svm_clf.fit(x_train_clf, y_train_clf)"
   ]
  },
  {
   "cell_type": "code",
   "execution_count": 124,
   "metadata": {},
   "outputs": [
    {
     "name": "stdout",
     "output_type": "stream",
     "text": [
      "              precision    recall  f1-score   support\n",
      "\n",
      "    standing       1.00      0.70      0.82      1442\n",
      "not-standind       0.78      1.00      0.88      1547\n",
      "\n",
      "    accuracy                           0.85      2989\n",
      "   macro avg       0.89      0.85      0.85      2989\n",
      "weighted avg       0.89      0.85      0.85      2989\n",
      "\n"
     ]
    }
   ],
   "source": [
    "y_train_head = svm_clf.predict(x_train_clf)\n",
    "print(classification_report(y_train_clf, y_train_head, target_names=labels))"
   ]
  },
  {
   "cell_type": "code",
   "execution_count": 125,
   "metadata": {},
   "outputs": [
    {
     "data": {
      "text/plain": [
       "1494"
      ]
     },
     "execution_count": 125,
     "metadata": {},
     "output_type": "execute_result"
    }
   ],
   "source": [
    "int(len(y_train_head)/2)"
   ]
  },
  {
   "cell_type": "code",
   "execution_count": 127,
   "metadata": {},
   "outputs": [
    {
     "data": {
      "text/plain": [
       "<matplotlib.axes._subplots.AxesSubplot at 0x155b3fcd0>"
      ]
     },
     "execution_count": 127,
     "metadata": {},
     "output_type": "execute_result"
    },
    {
     "data": {
      "image/png": "[encoded data removed]",
      "text/plain": [
       "<Figure size 432x288 with 2 Axes>"
      ]
     },
     "metadata": {
      "needs_background": "light"
     },
     "output_type": "display_data"
    }
   ],
   "source": [
    "cm = confusion_matrix(y_train_clf, y_train_head)\n",
    "cm_df = pd.DataFrame(cm, index = labels,\n",
    "                  columns = labels)\n",
    "sns.heatmap(cm_df, annot=True, cmap='YlGnBu', fmt='g')"
   ]
  },
  {
   "cell_type": "code",
   "execution_count": null,
   "metadata": {},
   "outputs": [],
   "source": []
  }
 ],
 "metadata": {
  "kernelspec": {
   "display_name": "Python 3",
   "language": "python",
   "name": "python3"
  },
  "language_info": {
   "codemirror_mode": {
    "name": "ipython",
    "version": 3
   },
   "file_extension": ".py",
   "mimetype": "text/x-python",
   "name": "python",
   "nbconvert_exporter": "python",
   "pygments_lexer": "ipython3",
   "version": "3.8.2"
  }
 },
 "nbformat": 4,
 "nbformat_minor": 4
}

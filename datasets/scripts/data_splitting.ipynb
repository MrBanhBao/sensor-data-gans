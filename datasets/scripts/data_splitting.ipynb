{
 "cells": [
  {
   "cell_type": "markdown",
   "metadata": {},
   "source": [
    "# Data Splitting\n",
    "This notebook shows how to read the csv data into pd.DataFrames"
   ]
  },
  {
   "cell_type": "code",
   "execution_count": 7,
   "metadata": {
    "pycharm": {
     "is_executing": false
    }
   },
   "outputs": [],
   "source": [
    "import os\n",
    "import numpy as np\n",
    "import pandas as pd\n",
    "import matplotlib.pyplot as plt\n",
    "from sklearn.model_selection import train_test_split"
   ]
  },
  {
   "cell_type": "markdown",
   "metadata": {},
   "source": [
    "## Read CSV data  \n",
    "Shows how to read different csv data into one pandas Dataframe with each row as data measure with information about the participant."
   ]
  },
  {
   "cell_type": "code",
   "execution_count": 8,
   "metadata": {
    "pycharm": {
     "is_executing": false
    }
   },
   "outputs": [],
   "source": [
    "def get_ds_infos():\n",
    "    \"\"\"\n",
    "    Read the file includes data subject information.\n",
    "    \n",
    "    Data Columns:\n",
    "    0: code [1-24]\n",
    "    1: weight [kg]\n",
    "    2: height [cm]\n",
    "    3: age [years]\n",
    "    4: gender [0:Female, 1:Male]\n",
    "    \n",
    "    Returns:\n",
    "        A pandas DataFrame that contains inforamtion about data subjects' attributes \n",
    "    \"\"\" \n",
    "\n",
    "    dss = pd.read_csv(os.path.join(motion_sense_dir, \"data_subjects_info.csv\"))\n",
    "    print(\"[INFO] -- Data subjects' information is imported.\")\n",
    "    \n",
    "    return dss\n",
    "\n",
    "def set_data_types(data_types=[\"userAcceleration\"]):\n",
    "    \"\"\"\n",
    "    Select the sensors and the mode to shape the final dataset.\n",
    "    \n",
    "    Args:\n",
    "        data_types: A list of sensor data type from this list: [attitude, gravity, rotationRate, userAcceleration] \n",
    "\n",
    "    Returns:\n",
    "        It returns a list of columns to use for creating time-series from files.\n",
    "    \"\"\"\n",
    "    dt_list = []\n",
    "    for t in data_types:\n",
    "        if t != \"attitude\":\n",
    "            dt_list.append([t+\".x\",t+\".y\",t+\".z\"])\n",
    "        else:\n",
    "            dt_list.append([t+\".roll\", t+\".pitch\", t+\".yaw\"])\n",
    "\n",
    "    return dt_list\n",
    "\n",
    "\n",
    "def creat_time_series(dt_list, act_labels, trial_codes, mode=\"mag\", labeled=True):\n",
    "    \"\"\"\n",
    "    Args:\n",
    "        dt_list: A list of columns that shows the type of data we want.\n",
    "        act_labels: list of activites\n",
    "        trial_codes: list of trials\n",
    "        mode: It can be \"raw\" which means you want raw data\n",
    "        for every dimention of each data type,\n",
    "        [attitude(roll, pitch, yaw); gravity(x, y, z); rotationRate(x, y, z); userAcceleration(x,y,z)].\n",
    "        or it can be \"mag\" which means you only want the magnitude for each data type: (x^2+y^2+z^2)^(1/2)\n",
    "        labeled: True, if we want a labeld dataset. False, if we only want sensor values.\n",
    "\n",
    "    Returns:\n",
    "        It returns a time-series of sensor data.\n",
    "    \n",
    "    \"\"\"\n",
    "    num_data_cols = len(dt_list) if mode == \"mag\" else len(dt_list*3)\n",
    "\n",
    "    if labeled:\n",
    "        dataset = np.zeros((0,num_data_cols+7)) # \"7\" --> [act, code, weight, height, age, gender, trial] \n",
    "    else:\n",
    "        dataset = np.zeros((0,num_data_cols))\n",
    "        \n",
    "    ds_list = get_ds_infos()\n",
    "    \n",
    "    print(\"[INFO] -- Creating Time-Series\")\n",
    "    for sub_id in ds_list[\"code\"]:\n",
    "        for act_id, act in enumerate(act_labels):\n",
    "            for trial in trial_codes[act_id]:\n",
    "                fname = os.path.join(motion_sense_dir, 'A_DeviceMotion_data/'+act+'_'+str(trial)+'/sub_'+str(int(sub_id))+'.csv')\n",
    "                raw_data = pd.read_csv(fname)\n",
    "                raw_data = raw_data.drop(['Unnamed: 0'], axis=1)\n",
    "                vals = np.zeros((len(raw_data), num_data_cols))\n",
    "                for x_id, axes in enumerate(dt_list):\n",
    "                    if mode == \"mag\":\n",
    "                        vals[:,x_id] = (raw_data[axes]**2).sum(axis=1)**0.5        \n",
    "                    else:\n",
    "                        vals[:,x_id*3:(x_id+1)*3] = raw_data[axes].values\n",
    "                    vals = vals[:,:num_data_cols]\n",
    "                if labeled:\n",
    "                    lbls = np.array([[act_id,\n",
    "                            sub_id-1,\n",
    "                            ds_list[\"weight\"][sub_id-1],\n",
    "                            ds_list[\"height\"][sub_id-1],\n",
    "                            ds_list[\"age\"][sub_id-1],\n",
    "                            ds_list[\"gender\"][sub_id-1],\n",
    "                            trial          \n",
    "                           ]]*len(raw_data))\n",
    "                    vals = np.concatenate((vals, lbls), axis=1)\n",
    "                dataset = np.append(dataset,vals, axis=0)\n",
    "    cols = []\n",
    "    for axes in dt_list:\n",
    "        if mode == \"raw\":\n",
    "            cols += axes\n",
    "        else:\n",
    "            cols += [str(axes[0][:-2])]\n",
    "            \n",
    "    if labeled:\n",
    "        cols += [\"act\", \"id\", \"weight\", \"height\", \"age\", \"gender\", \"trial\"]\n",
    "    \n",
    "    dataset = pd.DataFrame(data=dataset, columns=cols)\n",
    "    return dataset\n",
    "#________________________________\n",
    "\n",
    "\n",
    "ACT_LABELS = [\"dws\",\"ups\", \"wlk\", \"jog\", \"std\", \"sit\"]\n",
    "TRIAL_CODES = {\n",
    "    ACT_LABELS[0]:[1,2,11],\n",
    "    ACT_LABELS[1]:[3,4,12],\n",
    "    ACT_LABELS[2]:[7,8,15],\n",
    "    ACT_LABELS[3]:[9,16],\n",
    "    ACT_LABELS[4]:[6,14],\n",
    "    ACT_LABELS[5]:[5,13]\n",
    "}"
   ]
  },
  {
   "cell_type": "markdown",
   "metadata": {},
   "source": [
    "### Create DataFrame"
   ]
  },
  {
   "cell_type": "code",
   "execution_count": 9,
   "metadata": {
    "pycharm": {
     "is_executing": false
    }
   },
   "outputs": [
    {
     "name": "stdout",
     "text": [
      "[INFO] -- Selected sensor data types: ['userAcceleration']\n[INFO] -- Selected activites: ['std', 'wlk', 'jog']\n[INFO] -- Data subjects' information is imported.\n[INFO] -- Creating Time-Series\n",
      "[INFO] -- Shape of time-Series dataset:(784946, 10)\n"
     ],
     "output_type": "stream"
    },
    {
     "data": {
      "text/plain": "        userAcceleration.x  userAcceleration.y  userAcceleration.z  act    id  \\\n0                 0.007192           -0.004249            0.065989  0.0   0.0   \n1                -0.082061            0.004820            0.022905  0.0   0.0   \n2                -0.101612            0.008953            0.002664  0.0   0.0   \n3                -0.113307            0.020615           -0.029093  0.0   0.0   \n4                -0.111187            0.026429           -0.034393  0.0   0.0   \n...                    ...                 ...                 ...  ...   ...   \n784941           -0.090358            0.364632            1.418838  2.0  23.0   \n784942            0.775085           -0.704872           -1.384102  2.0  23.0   \n784943            0.862655            0.054028           -1.188137  2.0  23.0   \n784944            0.660700            0.977416           -1.382904  2.0  23.0   \n784945            0.043053            3.977308            0.174186  2.0  23.0   \n\n        weight  height   age  gender  trial  \n0        102.0   188.0  46.0     1.0    6.0  \n1        102.0   188.0  46.0     1.0    6.0  \n2        102.0   188.0  46.0     1.0    6.0  \n3        102.0   188.0  46.0     1.0    6.0  \n4        102.0   188.0  46.0     1.0    6.0  \n...        ...     ...   ...     ...    ...  \n784941    74.0   173.0  18.0     0.0   16.0  \n784942    74.0   173.0  18.0     0.0   16.0  \n784943    74.0   173.0  18.0     0.0   16.0  \n784944    74.0   173.0  18.0     0.0   16.0  \n784945    74.0   173.0  18.0     0.0   16.0  \n\n[784946 rows x 10 columns]",
      "text/html": "<div>\n<style scoped>\n    .dataframe tbody tr th:only-of-type {\n        vertical-align: middle;\n    }\n\n    .dataframe tbody tr th {\n        vertical-align: top;\n    }\n\n    .dataframe thead th {\n        text-align: right;\n    }\n</style>\n<table border=\"1\" class=\"dataframe\">\n  <thead>\n    <tr style=\"text-align: right;\">\n      <th></th>\n      <th>userAcceleration.x</th>\n      <th>userAcceleration.y</th>\n      <th>userAcceleration.z</th>\n      <th>act</th>\n      <th>id</th>\n      <th>weight</th>\n      <th>height</th>\n      <th>age</th>\n      <th>gender</th>\n      <th>trial</th>\n    </tr>\n  </thead>\n  <tbody>\n    <tr>\n      <th>0</th>\n      <td>0.007192</td>\n      <td>-0.004249</td>\n      <td>0.065989</td>\n      <td>0.0</td>\n      <td>0.0</td>\n      <td>102.0</td>\n      <td>188.0</td>\n      <td>46.0</td>\n      <td>1.0</td>\n      <td>6.0</td>\n    </tr>\n    <tr>\n      <th>1</th>\n      <td>-0.082061</td>\n      <td>0.004820</td>\n      <td>0.022905</td>\n      <td>0.0</td>\n      <td>0.0</td>\n      <td>102.0</td>\n      <td>188.0</td>\n      <td>46.0</td>\n      <td>1.0</td>\n      <td>6.0</td>\n    </tr>\n    <tr>\n      <th>2</th>\n      <td>-0.101612</td>\n      <td>0.008953</td>\n      <td>0.002664</td>\n      <td>0.0</td>\n      <td>0.0</td>\n      <td>102.0</td>\n      <td>188.0</td>\n      <td>46.0</td>\n      <td>1.0</td>\n      <td>6.0</td>\n    </tr>\n    <tr>\n      <th>3</th>\n      <td>-0.113307</td>\n      <td>0.020615</td>\n      <td>-0.029093</td>\n      <td>0.0</td>\n      <td>0.0</td>\n      <td>102.0</td>\n      <td>188.0</td>\n      <td>46.0</td>\n      <td>1.0</td>\n      <td>6.0</td>\n    </tr>\n    <tr>\n      <th>4</th>\n      <td>-0.111187</td>\n      <td>0.026429</td>\n      <td>-0.034393</td>\n      <td>0.0</td>\n      <td>0.0</td>\n      <td>102.0</td>\n      <td>188.0</td>\n      <td>46.0</td>\n      <td>1.0</td>\n      <td>6.0</td>\n    </tr>\n    <tr>\n      <th>...</th>\n      <td>...</td>\n      <td>...</td>\n      <td>...</td>\n      <td>...</td>\n      <td>...</td>\n      <td>...</td>\n      <td>...</td>\n      <td>...</td>\n      <td>...</td>\n      <td>...</td>\n    </tr>\n    <tr>\n      <th>784941</th>\n      <td>-0.090358</td>\n      <td>0.364632</td>\n      <td>1.418838</td>\n      <td>2.0</td>\n      <td>23.0</td>\n      <td>74.0</td>\n      <td>173.0</td>\n      <td>18.0</td>\n      <td>0.0</td>\n      <td>16.0</td>\n    </tr>\n    <tr>\n      <th>784942</th>\n      <td>0.775085</td>\n      <td>-0.704872</td>\n      <td>-1.384102</td>\n      <td>2.0</td>\n      <td>23.0</td>\n      <td>74.0</td>\n      <td>173.0</td>\n      <td>18.0</td>\n      <td>0.0</td>\n      <td>16.0</td>\n    </tr>\n    <tr>\n      <th>784943</th>\n      <td>0.862655</td>\n      <td>0.054028</td>\n      <td>-1.188137</td>\n      <td>2.0</td>\n      <td>23.0</td>\n      <td>74.0</td>\n      <td>173.0</td>\n      <td>18.0</td>\n      <td>0.0</td>\n      <td>16.0</td>\n    </tr>\n    <tr>\n      <th>784944</th>\n      <td>0.660700</td>\n      <td>0.977416</td>\n      <td>-1.382904</td>\n      <td>2.0</td>\n      <td>23.0</td>\n      <td>74.0</td>\n      <td>173.0</td>\n      <td>18.0</td>\n      <td>0.0</td>\n      <td>16.0</td>\n    </tr>\n    <tr>\n      <th>784945</th>\n      <td>0.043053</td>\n      <td>3.977308</td>\n      <td>0.174186</td>\n      <td>2.0</td>\n      <td>23.0</td>\n      <td>74.0</td>\n      <td>173.0</td>\n      <td>18.0</td>\n      <td>0.0</td>\n      <td>16.0</td>\n    </tr>\n  </tbody>\n</table>\n<p>784946 rows × 10 columns</p>\n</div>"
     },
     "metadata": {},
     "output_type": "execute_result",
     "execution_count": 9
    }
   ],
   "source": [
    "## Here we set parameter to build labeld time-series from dataset of \"(A)DeviceMotion_data\"\n",
    "## attitude(roll, pitch, yaw); gravity(x, y, z); rotationRate(x, y, z); userAcceleration(x,y,z)\n",
    "motion_sense_dir = \"../raw/motionsense-dataset\"\n",
    "sdt = [\"userAcceleration\"]\n",
    "print(\"[INFO] -- Selected sensor data types: \"+str(sdt))    \n",
    "act_labels = ['std', 'wlk', 'jog']#ACT_LABELS [0:4]\n",
    "print(\"[INFO] -- Selected activites: \"+str(act_labels))    \n",
    "trial_codes = [TRIAL_CODES[act] for act in act_labels]\n",
    "dt_list = set_data_types(sdt)\n",
    "dataset = creat_time_series(dt_list, act_labels, trial_codes, mode=\"raw\", labeled=True)\n",
    "print(\"[INFO] -- Shape of time-Series dataset:\"+str(dataset.shape))    \n",
    "dataset"
   ]
  },
  {
   "cell_type": "markdown",
   "metadata": {},
   "source": [
    "## Aggregate DataFrame\n",
    "At the moment one measure timestep is represented as row.\n",
    "Further cells shows you how this above representation is transformed into a representation where one row a trial. Measured data are stored as list. Further demographic data except the sex are thrown away."
   ]
  },
  {
   "cell_type": "code",
   "execution_count": 10,
   "metadata": {
    "pycharm": {
     "is_executing": false
    }
   },
   "outputs": [],
   "source": [
    "## this method calculates x, y, z into one value\n",
    "def calc_consultant(df, xyz=['userAcceleration.x', 'userAcceleration.y', 'userAcceleration.z']):\n",
    "    cs = []\n",
    "    for i, row in df.iterrows():\n",
    "        x = np.array(row[xyz[0]])\n",
    "        y = np.array(row[xyz[1]])\n",
    "        z = np.array(row[xyz[2]])\n",
    "        c = np.square(np.power(x, 2) + np.power(y, 2) + np.power(z, 2))\n",
    "        cs.append(c)\n",
    "    return cs"
   ]
  },
  {
   "cell_type": "code",
   "execution_count": 11,
   "metadata": {
    "pycharm": {
     "is_executing": false
    }
   },
   "outputs": [
    {
     "data": {
      "text/plain": "       id  act  trial  gender  \\\n0     0.0  0.0    6.0     1.0   \n1     0.0  0.0   14.0     1.0   \n2     0.0  1.0    7.0     1.0   \n3     0.0  1.0    8.0     1.0   \n4     0.0  1.0   15.0     1.0   \n..    ...  ...    ...     ...   \n163  23.0  1.0    7.0     0.0   \n164  23.0  1.0    8.0     0.0   \n165  23.0  1.0   15.0     0.0   \n166  23.0  2.0    9.0     0.0   \n167  23.0  2.0   16.0     0.0   \n\n                                    userAcceleration.x  \\\n0    [0.007192000000000001, -0.082061, -0.101612, -...   \n1    [0.019346, -0.069464, -0.073061, -0.037023, -0...   \n2    [0.091702, 0.367412, 0.172093, 0.004957, -0.04...   \n3    [0.008911, -0.138467, -0.411792, -0.399219, -0...   \n4    [-0.534569, 0.02255, 0.522461, 0.556612, 0.394...   \n..                                                 ...   \n163  [-0.0049770000000000005, -0.105378, -0.239922,...   \n164  [-1.425842, 0.114683, 0.39819, 0.698681, -0.06...   \n165  [-1.452646, -1.252442, -0.32668, 0.384259, 0.9...   \n166  [0.091297, -0.264581, -0.221304, -1.643414, -1...   \n167  [-1.326078, -1.571048, -1.493952, -1.087470000...   \n\n                                    userAcceleration.y  \\\n0    [-0.004249, 0.0048200000000000005, 0.008953000...   \n1    [0.030886, 0.063764, 0.046253, -0.020236, -0.0...   \n2    [0.4158810000000001, 0.004566, -0.217483, -0.2...   \n3    [0.811516, 0.779104, 0.657027, 0.419755, -0.01...   \n4    [-0.158566, 0.026424, 0.306722, 0.253333, -0.1...   \n..                                                 ...   \n163  [-0.018604, 0.050151, 0.135729, 0.045206, 0.04...   \n164  [1.681821, -0.123146, -0.219326, 0.377987, 1.4...   \n165  [0.487609, 0.5197470000000001, 0.27915, 0.7597...   \n166  [-0.535709, -0.124192, 0.272271, 3.05774900000...   \n167  [0.07728, -0.8559469999999999, -1.258582, -1.8...   \n\n                                    userAcceleration.z  \\\n0    [0.06598899999999999, 0.022905, 0.002664, -0.0...   \n1    [0.008607, -0.02108, -0.026514, 0.048161, 0.04...   \n2    [0.093689, -0.106082, -0.16338699999999998, -0...   \n3    [0.390558, 0.459506, 0.080446, 0.1086099999999...   \n4    [0.918927, 0.394119, -0.095133, -0.207446, 0.0...   \n..                                                 ...   \n163  [-0.353208, -0.314363, -0.348385, -0.141423, -...   \n164  [0.544728, -0.177449, -0.279697, -0.318708, -1...   \n165  [0.243056, 0.316493, 0.188983, -0.110478, -0.5...   \n166  [0.6634329999999999, -0.172721, -0.467133, 0.3...   \n167  [0.753706, 0.7283689999999999, 1.140529, 0.696...   \n\n                                    userAcceleration.c  \n0    [1.9574669279047835e-05, 5.302576389694968e-05...  \n1    [1.966426109387372e-06, 8.715083940152258e-05,...  \n2    [0.03615469954549734, 0.021393689171191922, 0....  \n3    [0.65800192071727, 0.7011079925897511, 0.36933...  \n4    [1.3347967057319228, 0.024503680978231166, 0.1...  \n..                                                 ...  \n163  [0.01565670872303731, 0.012643594992173999, 0....  \n164  [26.607810043759745, 0.0035766709663875088, 0....  \n165  [5.793741223768068, 3.759394194166553, 0.04855...  \n166  [0.5409052659747449, 0.013284706758845154, 0.1...  \n167  [5.440685914074359, 13.923036145626279, 26.180...  \n\n[168 rows x 8 columns]",
      "text/html": "<div>\n<style scoped>\n    .dataframe tbody tr th:only-of-type {\n        vertical-align: middle;\n    }\n\n    .dataframe tbody tr th {\n        vertical-align: top;\n    }\n\n    .dataframe thead th {\n        text-align: right;\n    }\n</style>\n<table border=\"1\" class=\"dataframe\">\n  <thead>\n    <tr style=\"text-align: right;\">\n      <th></th>\n      <th>id</th>\n      <th>act</th>\n      <th>trial</th>\n      <th>gender</th>\n      <th>userAcceleration.x</th>\n      <th>userAcceleration.y</th>\n      <th>userAcceleration.z</th>\n      <th>userAcceleration.c</th>\n    </tr>\n  </thead>\n  <tbody>\n    <tr>\n      <th>0</th>\n      <td>0.0</td>\n      <td>0.0</td>\n      <td>6.0</td>\n      <td>1.0</td>\n      <td>[0.007192000000000001, -0.082061, -0.101612, -...</td>\n      <td>[-0.004249, 0.0048200000000000005, 0.008953000...</td>\n      <td>[0.06598899999999999, 0.022905, 0.002664, -0.0...</td>\n      <td>[1.9574669279047835e-05, 5.302576389694968e-05...</td>\n    </tr>\n    <tr>\n      <th>1</th>\n      <td>0.0</td>\n      <td>0.0</td>\n      <td>14.0</td>\n      <td>1.0</td>\n      <td>[0.019346, -0.069464, -0.073061, -0.037023, -0...</td>\n      <td>[0.030886, 0.063764, 0.046253, -0.020236, -0.0...</td>\n      <td>[0.008607, -0.02108, -0.026514, 0.048161, 0.04...</td>\n      <td>[1.966426109387372e-06, 8.715083940152258e-05,...</td>\n    </tr>\n    <tr>\n      <th>2</th>\n      <td>0.0</td>\n      <td>1.0</td>\n      <td>7.0</td>\n      <td>1.0</td>\n      <td>[0.091702, 0.367412, 0.172093, 0.004957, -0.04...</td>\n      <td>[0.4158810000000001, 0.004566, -0.217483, -0.2...</td>\n      <td>[0.093689, -0.106082, -0.16338699999999998, -0...</td>\n      <td>[0.03615469954549734, 0.021393689171191922, 0....</td>\n    </tr>\n    <tr>\n      <th>3</th>\n      <td>0.0</td>\n      <td>1.0</td>\n      <td>8.0</td>\n      <td>1.0</td>\n      <td>[0.008911, -0.138467, -0.411792, -0.399219, -0...</td>\n      <td>[0.811516, 0.779104, 0.657027, 0.419755, -0.01...</td>\n      <td>[0.390558, 0.459506, 0.080446, 0.1086099999999...</td>\n      <td>[0.65800192071727, 0.7011079925897511, 0.36933...</td>\n    </tr>\n    <tr>\n      <th>4</th>\n      <td>0.0</td>\n      <td>1.0</td>\n      <td>15.0</td>\n      <td>1.0</td>\n      <td>[-0.534569, 0.02255, 0.522461, 0.556612, 0.394...</td>\n      <td>[-0.158566, 0.026424, 0.306722, 0.253333, -0.1...</td>\n      <td>[0.918927, 0.394119, -0.095133, -0.207446, 0.0...</td>\n      <td>[1.3347967057319228, 0.024503680978231166, 0.1...</td>\n    </tr>\n    <tr>\n      <th>...</th>\n      <td>...</td>\n      <td>...</td>\n      <td>...</td>\n      <td>...</td>\n      <td>...</td>\n      <td>...</td>\n      <td>...</td>\n      <td>...</td>\n    </tr>\n    <tr>\n      <th>163</th>\n      <td>23.0</td>\n      <td>1.0</td>\n      <td>7.0</td>\n      <td>0.0</td>\n      <td>[-0.0049770000000000005, -0.105378, -0.239922,...</td>\n      <td>[-0.018604, 0.050151, 0.135729, 0.045206, 0.04...</td>\n      <td>[-0.353208, -0.314363, -0.348385, -0.141423, -...</td>\n      <td>[0.01565670872303731, 0.012643594992173999, 0....</td>\n    </tr>\n    <tr>\n      <th>164</th>\n      <td>23.0</td>\n      <td>1.0</td>\n      <td>8.0</td>\n      <td>0.0</td>\n      <td>[-1.425842, 0.114683, 0.39819, 0.698681, -0.06...</td>\n      <td>[1.681821, -0.123146, -0.219326, 0.377987, 1.4...</td>\n      <td>[0.544728, -0.177449, -0.279697, -0.318708, -1...</td>\n      <td>[26.607810043759745, 0.0035766709663875088, 0....</td>\n    </tr>\n    <tr>\n      <th>165</th>\n      <td>23.0</td>\n      <td>1.0</td>\n      <td>15.0</td>\n      <td>0.0</td>\n      <td>[-1.452646, -1.252442, -0.32668, 0.384259, 0.9...</td>\n      <td>[0.487609, 0.5197470000000001, 0.27915, 0.7597...</td>\n      <td>[0.243056, 0.316493, 0.188983, -0.110478, -0.5...</td>\n      <td>[5.793741223768068, 3.759394194166553, 0.04855...</td>\n    </tr>\n    <tr>\n      <th>166</th>\n      <td>23.0</td>\n      <td>2.0</td>\n      <td>9.0</td>\n      <td>0.0</td>\n      <td>[0.091297, -0.264581, -0.221304, -1.643414, -1...</td>\n      <td>[-0.535709, -0.124192, 0.272271, 3.05774900000...</td>\n      <td>[0.6634329999999999, -0.172721, -0.467133, 0.3...</td>\n      <td>[0.5409052659747449, 0.013284706758845154, 0.1...</td>\n    </tr>\n    <tr>\n      <th>167</th>\n      <td>23.0</td>\n      <td>2.0</td>\n      <td>16.0</td>\n      <td>0.0</td>\n      <td>[-1.326078, -1.571048, -1.493952, -1.087470000...</td>\n      <td>[0.07728, -0.8559469999999999, -1.258582, -1.8...</td>\n      <td>[0.753706, 0.7283689999999999, 1.140529, 0.696...</td>\n      <td>[5.440685914074359, 13.923036145626279, 26.180...</td>\n    </tr>\n  </tbody>\n</table>\n<p>168 rows × 8 columns</p>\n</div>"
     },
     "metadata": {},
     "output_type": "execute_result",
     "execution_count": 11
    }
   ],
   "source": [
    "dataset_agg = dataset.groupby(['id', 'act', 'trial']).agg({\n",
    "    'userAcceleration.x': list,\n",
    "    'userAcceleration.y': list,\n",
    "    'userAcceleration.z': list,\n",
    "    'gender': max\n",
    "}).reset_index()\n",
    "\n",
    "dataset_agg['userAcceleration.c'] = calc_consultant(dataset_agg)\n",
    "# reorder columns \n",
    "dataset_agg = dataset_agg[['id', 'act', 'trial', 'gender',  'userAcceleration.x', 'userAcceleration.y', 'userAcceleration.z', 'userAcceleration.c']]\n",
    "dataset_agg"
   ]
  },
  {
   "cell_type": "code",
   "execution_count": 12,
   "metadata": {
    "pycharm": {
     "is_executing": false
    }
   },
   "outputs": [
    {
     "name": "stderr",
     "text": [
      "/Users/hao/.local/share/virtualenvs/sensor-data-gans-ihZBt7we/lib/python3.8/site-packages/pandas/core/generic.py:2490: PerformanceWarning: \nyour performance may suffer as PyTables will pickle object types that it cannot\nmap directly to c-types [inferred_type->mixed,key->block1_values] [items->Index(['userAcceleration.x', 'userAcceleration.y', 'userAcceleration.z',\n       'userAcceleration.c'],\n      dtype='object')]\n\n  pytables.to_hdf(\n"
     ],
     "output_type": "stream"
    }
   ],
   "source": [
    "dataset_agg.to_hdf('../mydata/motionsense_aggregated.h5', key='agg_df')"
   ]
  },
  {
   "cell_type": "markdown",
   "metadata": {},
   "source": [
    "## Split DataFrame\n",
    "Split DataFrame into Training-, Validation- and Testsets.  \n",
    "The methods tries to balance the datasets regarding columns: gender, trial_length and act."
   ]
  },
  {
   "cell_type": "code",
   "execution_count": 13,
   "metadata": {
    "pycharm": {
     "is_executing": false
    }
   },
   "outputs": [],
   "source": [
    "def dataframe_split(df, test_size):\n",
    "    train_dfs = []\n",
    "    test_dfs = []\n",
    "    \n",
    "    for gender in df.gender.unique():\n",
    "        gender_df = df[df['gender'] == gender]\n",
    "        gender_df['trial_length'] = gender_df.trial.map(lambda trial: 'short' if (trial > 9) else 'long')\n",
    "        # gender_dfs.append(gender_df)\n",
    "\n",
    "        for trial_length in gender_df.trial_length.unique():\n",
    "            trial_length_df = gender_df[gender_df['trial_length'] == trial_length]\n",
    "\n",
    "            for act in trial_length_df.act.unique():\n",
    "                act_df = trial_length_df[trial_length_df['act'] == act]\n",
    "                train_df, test_df = train_test_split(act_df, test_size=test_size)\n",
    "\n",
    "                train_dfs.append(train_df)\n",
    "                test_dfs.append(test_df)\n",
    "    return pd.concat(train_dfs).reset_index(drop=True), pd.concat(test_dfs).reset_index(drop=True)"
   ]
  },
  {
   "cell_type": "code",
   "execution_count": 14,
   "metadata": {
    "pycharm": {
     "is_executing": false
    }
   },
   "outputs": [],
   "source": [
    "dataset_agg = pd.read_hdf('../mydata/motionsense_aggregated.h5')"
   ]
  },
  {
   "cell_type": "markdown",
   "metadata": {},
   "source": [
    "### splitting"
   ]
  },
  {
   "cell_type": "code",
   "execution_count": 15,
   "metadata": {
    "pycharm": {
     "is_executing": false
    }
   },
   "outputs": [
    {
     "name": "stderr",
     "text": [
      "<ipython-input-13-fbfdd9e2d0d9>:7: SettingWithCopyWarning: \nA value is trying to be set on a copy of a slice from a DataFrame.\nTry using .loc[row_indexer,col_indexer] = value instead\n\nSee the caveats in the documentation: https://pandas.pydata.org/pandas-docs/stable/user_guide/indexing.html#returning-a-view-versus-a-copy\n  gender_df['trial_length'] = gender_df.trial.map(lambda trial: 'short' if (trial > 9) else 'long')\n/Users/hao/.local/share/virtualenvs/sensor-data-gans-ihZBt7we/lib/python3.8/site-packages/pandas/core/generic.py:2490: PerformanceWarning: \nyour performance may suffer as PyTables will pickle object types that it cannot\nmap directly to c-types [inferred_type->mixed,key->block1_values] [items->Index(['userAcceleration.x', 'userAcceleration.y', 'userAcceleration.z',\n       'userAcceleration.c', 'trial_length'],\n      dtype='object')]\n\n  pytables.to_hdf(\n"
     ],
     "output_type": "stream"
    },
    {
     "name": "stdout",
     "text": [
      "Save Train DataFrame.\nSave Validation DataFrame.\nSave Test DataFrame.\n"
     ],
     "output_type": "stream"
    }
   ],
   "source": [
    "train_df, val_test_df = dataframe_split(dataset_agg, test_size=0.3) \n",
    "val_df, test_df = dataframe_split(val_test_df, test_size=0.4)\n",
    "target_path = '../mydata'\n",
    "\n",
    "print('Save Train DataFrame.')\n",
    "train_df.to_hdf(os.path.join(target_path, 'train_df.h5'), key='train')\n",
    "\n",
    "print('Save Validation DataFrame.')\n",
    "val_df.to_hdf(os.path.join(target_path, 'val_df.h5'), key='val')\n",
    "\n",
    "print('Save Test DataFrame.')\n",
    "test_df.to_hdf(os.path.join(target_path, 'test_df.h5'), key='test')"
   ]
  },
  {
   "cell_type": "markdown",
   "metadata": {},
   "source": [
    "## check results"
   ]
  },
  {
   "cell_type": "code",
   "execution_count": 16,
   "metadata": {
    "pycharm": {
     "is_executing": false
    }
   },
   "outputs": [
    {
     "name": "stdout",
     "text": [
      "Train: 113\nVal: 28\nTest: 27\n"
     ],
     "output_type": "stream"
    }
   ],
   "source": [
    "print('Train:', len(train_df))\n",
    "print('Val:', len(val_df))\n",
    "print('Test:', len(test_df))"
   ]
  },
  {
   "cell_type": "code",
   "execution_count": 17,
   "metadata": {
    "pycharm": {
     "is_executing": false
    }
   },
   "outputs": [
    {
     "name": "stdout",
     "text": [
      "1.0    49\n2.0    32\n0.0    32\nName: act, dtype: int64\n1.0    12\n2.0     8\n0.0     8\nName: act, dtype: int64\n1.0    11\n2.0     8\n0.0     8\nName: act, dtype: int64\n"
     ],
     "output_type": "stream"
    }
   ],
   "source": [
    "print(train_df.act.value_counts())\n",
    "print(val_df.act.value_counts())\n",
    "print(test_df.act.value_counts())"
   ]
  },
  {
   "cell_type": "code",
   "execution_count": 18,
   "metadata": {
    "pycharm": {
     "is_executing": false
    }
   },
   "outputs": [
    {
     "name": "stdout",
     "text": [
      "7.0     17\n16.0    16\n15.0    16\n14.0    16\n9.0     16\n8.0     16\n6.0     16\nName: trial, dtype: int64\n7.0     5\n16.0    4\n15.0    4\n14.0    4\n9.0     4\n6.0     4\n8.0     3\nName: trial, dtype: int64\n8.0     5\n16.0    4\n15.0    4\n14.0    4\n9.0     4\n6.0     4\n7.0     2\nName: trial, dtype: int64\n"
     ],
     "output_type": "stream"
    }
   ],
   "source": [
    "print(train_df.trial.value_counts())\n",
    "print(val_df.trial.value_counts())\n",
    "print(test_df.trial.value_counts())"
   ]
  },
  {
   "cell_type": "code",
   "execution_count": 18,
   "metadata": {
    "pycharm": {
     "is_executing": false
    }
   },
   "outputs": [],
   "source": []
  }
 ],
 "metadata": {
  "kernelspec": {
   "display_name": "Python 3",
   "language": "python",
   "name": "python3"
  },
  "language_info": {
   "codemirror_mode": {
    "name": "ipython",
    "version": 3
   },
   "file_extension": ".py",
   "mimetype": "text/x-python",
   "name": "python",
   "nbconvert_exporter": "python",
   "pygments_lexer": "ipython3",
   "version": "3.7.7"
  },
  "pycharm": {
   "stem_cell": {
    "cell_type": "raw",
    "source": [],
    "metadata": {
     "collapsed": false
    }
   }
  }
 },
 "nbformat": 4,
 "nbformat_minor": 4
}
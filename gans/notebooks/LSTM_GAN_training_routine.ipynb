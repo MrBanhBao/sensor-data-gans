{
 "cells": [
  {
   "cell_type": "markdown",
   "metadata": {},
   "source": [
    "# LSTM GAN Training"
   ]
  },
  {
   "cell_type": "code",
   "execution_count": 1,
   "metadata": {},
   "outputs": [
    {
     "name": "stdout",
     "output_type": "stream",
     "text": [
      "/Users/hao/workspace/hpi_de/4th_Semester/Applied Machine Learning/sensor-data-gans\n"
     ]
    }
   ],
   "source": [
    "cd ../.."
   ]
  },
  {
   "cell_type": "markdown",
   "metadata": {},
   "source": [
    "## imports"
   ]
  },
  {
   "cell_type": "code",
   "execution_count": null,
   "metadata": {},
   "outputs": [],
   "source": [
    "import os\n",
    "import numpy as np\n",
    "import pandas as pd\n",
    "from datetime import datetime\n",
    "from numpy.random import randn\n",
    "import tensorflow as tf\n",
    "from tensorflow.keras.models import Sequential\n",
    "from tensorflow.keras.layers import Input, Dense, Flatten, LSTM, LeakyReLU, Reshape\n",
    "from tensorflow.keras.optimizers import Adam\n",
    "from gans.gan_trainer import GanTrainer"
   ]
  },
  {
   "cell_type": "markdown",
   "metadata": {},
   "source": [
    "## Create Discriminator and Generator Networks\n",
    "methods which creates and returns generator and discriminator"
   ]
  },
  {
   "cell_type": "code",
   "execution_count": null,
   "metadata": {},
   "outputs": [],
   "source": [
    "def create_discriminator(input_shape, optimizer=Adam(learning_rate=0.0001, clipnorm=1.0, decay=1e-8)):\n",
    "    discriminator = Sequential()\n",
    "    discriminator.add(LSTM(5, activation='relu', return_sequences=True, input_shape=input_shape))\n",
    "    discriminator.add(Flatten())\n",
    "    discriminator.add(Dense(1, activation='sigmoid'))\n",
    "    \n",
    "    discriminator.compile(loss='binary_crossentropy', optimizer=optimizer, metrics=['accuracy'])\n",
    "    return discriminator"
   ]
  },
  {
   "cell_type": "code",
   "execution_count": null,
   "metadata": {},
   "outputs": [],
   "source": [
    "def create_generator(latent_dim, units=3, small=True):\n",
    "    if small:\n",
    "        generator = Sequential()\n",
    "        generator.add(Dense(window_size, kernel_initializer='he_uniform', input_shape=(latent_dim, )))\n",
    "        generator.add(LeakyReLU())\n",
    "        generator.add(Reshape((window_size, 1)))\n",
    "        generator.add(LSTM(units, return_sequences=True, kernel_initializer='he_uniform'))\n",
    "        generator.add(LeakyReLU())\n",
    "        generator.add(LSTM(3, return_sequences=True, kernel_initializer='he_uniform', activation='linear'))\n",
    "    else:\n",
    "        generator = Sequential()\n",
    "        generator.add(Dense(window_size, kernel_initializer='he_uniform', input_shape=(latent_dim, )))\n",
    "        generator.add(LeakyReLU())\n",
    "        generator.add(Reshape((window_size, 1)))\n",
    "        generator.add(LSTM(12, return_sequences=True, kernel_initializer='he_uniform'))\n",
    "        generator.add(LeakyReLU())\n",
    "        generator.add(LSTM(9, return_sequences=True, kernel_initializer='he_uniform'))\n",
    "        generator.add(LeakyReLU())\n",
    "        generator.add(LSTM(6, return_sequences=True, kernel_initializer='he_uniform'))\n",
    "        generator.add(LeakyReLU())\n",
    "        generator.add(LSTM(3, return_sequences=True, kernel_initializer='he_uniform', activation='linear'))\n",
    "    \n",
    "    return generator"
   ]
  },
  {
   "cell_type": "markdown",
   "metadata": {},
   "source": [
    "## Training Routine"
   ]
  },
  {
   "cell_type": "markdown",
   "metadata": {},
   "source": [
    "### parameters for data loading and preprocessing"
   ]
  },
  {
   "cell_type": "code",
   "execution_count": null,
   "metadata": {},
   "outputs": [],
   "source": [
    "train_path = './datasets/mydata/train_df.h5'\n",
    "val_path = './datasets/mydata/val_df.h5'\n",
    "test_path = './datasets/mydata/test_df.h5'\n",
    "\n",
    "act_id = 0\n",
    "\n",
    "window_size = 5*50\n",
    "step_size = int(window_size/2)\n",
    "method ='sliding'\n",
    "col_names = ['userAcceleration.x', 'userAcceleration.y', 'userAcceleration.z', 'userAcceleration.c']\n",
    "input_cols_train=['userAcceleration.x', 'userAcceleration.y', 'userAcceleration.z']\n",
    "input_cols_eval=['userAcceleration.c']"
   ]
  },
  {
   "cell_type": "code",
   "execution_count": null,
   "metadata": {},
   "outputs": [],
   "source": [
    "steps = 1000\n",
    "batch_size = 32\n",
    "eval_step = 100\n",
    "random = False\n",
    "label_smoothing = False"
   ]
  },
  {
   "cell_type": "markdown",
   "metadata": {},
   "source": [
    "## Training routines with different hyper parameters"
   ]
  },
  {
   "cell_type": "code",
   "execution_count": null,
   "metadata": {},
   "outputs": [],
   "source": [
    "for small in [True, False]:\n",
    "    for act_id in range(0,3):\n",
    "        for latent_dim in [32, 64, 128, 256]:\n",
    "            for unit in [2, 3, 4, 5, 6, 7]:\n",
    "                out_dir = './out/lstm/act_id-{}/{}_ld-{}_u-{}_small-{}'.format(act_id, datetime.now(), latent_dim, unit, small)\n",
    "                \n",
    "                print(\"New: \", out_dir, 'Act_id:', act_id)\n",
    "\n",
    "                gan_trainer = GanTrainer(out_dir=out_dir)\n",
    "                gan_trainer.init_data(train_path=train_path,\n",
    "                              val_path=val_path,\n",
    "                              test_path=test_path,\n",
    "                              act_id=act_id,\n",
    "                              window_size=window_size,\n",
    "                              step_size=step_size,\n",
    "                              method=method,\n",
    "                              col_names=col_names,\n",
    "                              input_cols_train=input_cols_train,\n",
    "                              input_cols_eval=input_cols_eval\n",
    "                             )\n",
    "                input_shape = gan_trainer.x_train[0].shape\n",
    "\n",
    "                discriminator = create_discriminator(input_shape)\n",
    "                generator = create_generator(latent_dim=latent_dim, small=small)\n",
    "                gan_trainer.create_gan(generator=generator, discriminator=discriminator)\n",
    "\n",
    "                gan_trainer.train_gan(steps=steps, \n",
    "                                              batch_size=batch_size,\n",
    "                                              eval_step=eval_step,\n",
    "                                              random=random, \n",
    "                                              label_smoothing=label_smoothing)"
   ]
  },
  {
   "cell_type": "code",
   "execution_count": null,
   "metadata": {},
   "outputs": [],
   "source": []
  }
 ],
 "metadata": {
  "kernelspec": {
   "display_name": "Python 3",
   "language": "python",
   "name": "python3"
  },
  "language_info": {
   "codemirror_mode": {
    "name": "ipython",
    "version": 3
   },
   "file_extension": ".py",
   "mimetype": "text/x-python",
   "name": "python",
   "nbconvert_exporter": "python",
   "pygments_lexer": "ipython3",
   "version": "3.8.2"
  }
 },
 "nbformat": 4,
 "nbformat_minor": 4
}
